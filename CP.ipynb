{
 "cells": [
  {
   "cell_type": "code",
   "execution_count": 1,
   "metadata": {},
   "outputs": [],
   "source": [
    "import pandas as pd\n",
    "import numpy as np\n",
    "import matplotlib.pyplot as plt\n",
    "import seaborn as sns\n",
    "%matplotlib inline\n",
    "\n",
    "# Для работы с матрицами\n",
    "from scipy.sparse import csr_matrix\n",
    "\n",
    "# Матричная факторизация\n",
    "from implicit import als\n",
    "\n",
    "# Модель второго уровня\n",
    "from lightgbm import LGBMClassifier\n",
    "\n",
    "import os, sys\n",
    "module_path = os.path.abspath(os.path.join(os.pardir))\n",
    "if module_path not in sys.path:\n",
    "    sys.path.append(module_path)\n",
    "\n",
    "import warnings\n",
    "warnings.filterwarnings(\"ignore\")\n",
    "    \n",
    "# Написанные нами функции\n",
    "from metrics import precision_at_k, recall_at_k\n",
    "from utils import prefilter_items\n",
    "from recommenders import MainRecommender"
   ]
  },
  {
   "cell_type": "markdown",
   "metadata": {},
   "source": [
    "## Read data"
   ]
  },
  {
   "cell_type": "code",
   "execution_count": 2,
   "metadata": {},
   "outputs": [],
   "source": [
    "data = pd.read_csv('retail_train.csv')\n",
    "item_features = pd.read_csv('product.csv')\n",
    "user_features = pd.read_csv('hh_demographic.csv')\n",
    "\n",
    "data_test = pd.read_csv('retail_test1.csv')"
   ]
  },
  {
   "cell_type": "markdown",
   "metadata": {},
   "source": [
    "# Process features dataset"
   ]
  },
  {
   "cell_type": "code",
   "execution_count": 3,
   "metadata": {},
   "outputs": [],
   "source": [
    "ITEM_COL = 'item_id'\n",
    "USER_COL = 'user_id'"
   ]
  },
  {
   "cell_type": "markdown",
   "metadata": {},
   "source": [
    "### Сolumn processing"
   ]
  },
  {
   "cell_type": "code",
   "execution_count": 4,
   "metadata": {},
   "outputs": [],
   "source": [
    "item_features.columns = [col.lower() for col in item_features.columns]\n",
    "user_features.columns = [col.lower() for col in user_features.columns]\n",
    "\n",
    "item_features.rename(columns={'product_id': ITEM_COL}, inplace=True)\n",
    "user_features.rename(columns={'household_key': USER_COL }, inplace=True)"
   ]
  },
  {
   "cell_type": "markdown",
   "metadata": {},
   "source": [
    "# Split dataset for train, eval, test"
   ]
  },
  {
   "cell_type": "code",
   "execution_count": 5,
   "metadata": {},
   "outputs": [],
   "source": [
    "# Важна схема обучения и валидации!\n",
    "# -- давние покупки -- | -- 6 недель -- | -- 3 недель -- \n",
    "# подобрать размер 2-ого датасета (6 недель) --> learning curve (зависимость метрики recall@k от размера датасета)\n",
    "VAL_MATCHER_WEEKS = 6\n",
    "VAL_RANKER_WEEKS = 3"
   ]
  },
  {
   "cell_type": "code",
   "execution_count": 6,
   "metadata": {
    "scrolled": true
   },
   "outputs": [],
   "source": [
    "# берем данные для тренировки matching модели\n",
    "data_train_matcher = data[(data['week_no'] >= data['week_no'].max() - (VAL_MATCHER_WEEKS + VAL_RANKER_WEEKS)) &\n",
    "                      (data['week_no'] < data['week_no'].max() - (VAL_RANKER_WEEKS))]\n",
    "\n",
    "# берем данные для валидации matching модели\n",
    "data_val_matcher = data[data['week_no'] >= data['week_no'].max() - VAL_RANKER_WEEKS]\n",
    "\n",
    "# берем данные для тренировки ranking модели\n",
    "data_train_ranker = data[data['week_no'] >= data['week_no'].max() - VAL_RANKER_WEEKS]\n",
    "\n",
    "# берем данные для теста ranking, matching модели\n",
    "# data_val_ranker = data[data['week_no'] >= data['week_no'].max() - VAL_RANKER_WEEKS]\n",
    "data_val_ranker = pd.read_csv('retail_test1.csv')\n",
    "\n",
    "# сделаем объединенный сет данных для первого уровня (матчинга)\n",
    "df_join_train_matcher = pd.concat([data_train_matcher, data_val_matcher])"
   ]
  },
  {
   "cell_type": "code",
   "execution_count": 7,
   "metadata": {},
   "outputs": [],
   "source": [
    "def print_stats_data(df_data, name_df):\n",
    "    print(name_df)\n",
    "    print(f\"Shape: {df_data.shape} Users: {df_data[USER_COL].nunique()} Items: {df_data[ITEM_COL].nunique()}  Min week: {df_data['week_no'].min()}   Max week: {df_data['week_no'].max()}\" )"
   ]
  },
  {
   "cell_type": "code",
   "execution_count": 8,
   "metadata": {},
   "outputs": [],
   "source": [
    "def print_stats_data_less(df_data, name_df):\n",
    "    print(name_df)\n",
    "    print(f\"Shape: {df_data.shape} Users: {df_data[USER_COL].nunique()} Items: {df_data[ITEM_COL].nunique()}\" )"
   ]
  },
  {
   "cell_type": "code",
   "execution_count": 9,
   "metadata": {
    "scrolled": true
   },
   "outputs": [
    {
     "name": "stdout",
     "output_type": "stream",
     "text": [
      "train_matcher\n",
      "Shape: (169711, 12) Users: 2154 Items: 27649  Min week: 86   Max week: 91\n",
      "val_matcher\n",
      "Shape: (118314, 12) Users: 2042 Items: 24329  Min week: 92   Max week: 95\n",
      "train_ranker\n",
      "Shape: (118314, 12) Users: 2042 Items: 24329  Min week: 92   Max week: 95\n",
      "val_ranker\n",
      "Shape: (88734, 12) Users: 1885 Items: 20497  Min week: 96   Max week: 98\n",
      "join_train_matcher\n",
      "Shape: (288025, 12) Users: 2280 Items: 34332  Min week: 86   Max week: 95\n"
     ]
    }
   ],
   "source": [
    "print_stats_data(data_train_matcher,'train_matcher')\n",
    "print_stats_data(data_val_matcher,'val_matcher')\n",
    "print_stats_data(data_train_ranker,'train_ranker')\n",
    "print_stats_data(data_val_ranker,'val_ranker')\n",
    "\n",
    "print_stats_data(df_join_train_matcher,'join_train_matcher')"
   ]
  },
  {
   "cell_type": "code",
   "execution_count": 10,
   "metadata": {},
   "outputs": [
    {
     "data": {
      "text/html": [
       "<div>\n",
       "<style scoped>\n",
       "    .dataframe tbody tr th:only-of-type {\n",
       "        vertical-align: middle;\n",
       "    }\n",
       "\n",
       "    .dataframe tbody tr th {\n",
       "        vertical-align: top;\n",
       "    }\n",
       "\n",
       "    .dataframe thead th {\n",
       "        text-align: right;\n",
       "    }\n",
       "</style>\n",
       "<table border=\"1\" class=\"dataframe\">\n",
       "  <thead>\n",
       "    <tr style=\"text-align: right;\">\n",
       "      <th></th>\n",
       "      <th>user_id</th>\n",
       "      <th>basket_id</th>\n",
       "      <th>day</th>\n",
       "      <th>item_id</th>\n",
       "      <th>quantity</th>\n",
       "      <th>sales_value</th>\n",
       "      <th>store_id</th>\n",
       "      <th>retail_disc</th>\n",
       "      <th>trans_time</th>\n",
       "      <th>week_no</th>\n",
       "      <th>coupon_disc</th>\n",
       "      <th>coupon_match_disc</th>\n",
       "    </tr>\n",
       "  </thead>\n",
       "  <tbody>\n",
       "    <tr>\n",
       "      <th>2104867</th>\n",
       "      <td>2070</td>\n",
       "      <td>40618492260</td>\n",
       "      <td>594</td>\n",
       "      <td>1019940</td>\n",
       "      <td>1</td>\n",
       "      <td>1.00</td>\n",
       "      <td>311</td>\n",
       "      <td>-0.29</td>\n",
       "      <td>40</td>\n",
       "      <td>86</td>\n",
       "      <td>0.0</td>\n",
       "      <td>0.0</td>\n",
       "    </tr>\n",
       "    <tr>\n",
       "      <th>2107468</th>\n",
       "      <td>2021</td>\n",
       "      <td>40618753059</td>\n",
       "      <td>594</td>\n",
       "      <td>840361</td>\n",
       "      <td>1</td>\n",
       "      <td>0.99</td>\n",
       "      <td>443</td>\n",
       "      <td>0.00</td>\n",
       "      <td>101</td>\n",
       "      <td>86</td>\n",
       "      <td>0.0</td>\n",
       "      <td>0.0</td>\n",
       "    </tr>\n",
       "  </tbody>\n",
       "</table>\n",
       "</div>"
      ],
      "text/plain": [
       "         user_id    basket_id  day  item_id  quantity  sales_value  store_id  \\\n",
       "2104867     2070  40618492260  594  1019940         1         1.00       311   \n",
       "2107468     2021  40618753059  594   840361         1         0.99       443   \n",
       "\n",
       "         retail_disc  trans_time  week_no  coupon_disc  coupon_match_disc  \n",
       "2104867        -0.29          40       86          0.0                0.0  \n",
       "2107468         0.00         101       86          0.0                0.0  "
      ]
     },
     "execution_count": 10,
     "metadata": {},
     "output_type": "execute_result"
    }
   ],
   "source": [
    "data_train_matcher.head(2)"
   ]
  },
  {
   "cell_type": "markdown",
   "metadata": {},
   "source": [
    "# Prefilter items"
   ]
  },
  {
   "cell_type": "code",
   "execution_count": 11,
   "metadata": {},
   "outputs": [
    {
     "data": {
      "text/html": [
       "<div>\n",
       "<style scoped>\n",
       "    .dataframe tbody tr th:only-of-type {\n",
       "        vertical-align: middle;\n",
       "    }\n",
       "\n",
       "    .dataframe tbody tr th {\n",
       "        vertical-align: top;\n",
       "    }\n",
       "\n",
       "    .dataframe thead th {\n",
       "        text-align: right;\n",
       "    }\n",
       "</style>\n",
       "<table border=\"1\" class=\"dataframe\">\n",
       "  <thead>\n",
       "    <tr style=\"text-align: right;\">\n",
       "      <th></th>\n",
       "      <th>item_id</th>\n",
       "      <th>n_sold</th>\n",
       "    </tr>\n",
       "  </thead>\n",
       "  <tbody>\n",
       "    <tr>\n",
       "      <th>0</th>\n",
       "      <td>28116</td>\n",
       "      <td>1</td>\n",
       "    </tr>\n",
       "    <tr>\n",
       "      <th>1</th>\n",
       "      <td>28117</td>\n",
       "      <td>1</td>\n",
       "    </tr>\n",
       "    <tr>\n",
       "      <th>2</th>\n",
       "      <td>28143</td>\n",
       "      <td>1</td>\n",
       "    </tr>\n",
       "    <tr>\n",
       "      <th>3</th>\n",
       "      <td>28186</td>\n",
       "      <td>1</td>\n",
       "    </tr>\n",
       "    <tr>\n",
       "      <th>4</th>\n",
       "      <td>28304</td>\n",
       "      <td>1</td>\n",
       "    </tr>\n",
       "    <tr>\n",
       "      <th>5</th>\n",
       "      <td>28966</td>\n",
       "      <td>1</td>\n",
       "    </tr>\n",
       "    <tr>\n",
       "      <th>6</th>\n",
       "      <td>29037</td>\n",
       "      <td>1</td>\n",
       "    </tr>\n",
       "    <tr>\n",
       "      <th>7</th>\n",
       "      <td>32111</td>\n",
       "      <td>1</td>\n",
       "    </tr>\n",
       "    <tr>\n",
       "      <th>8</th>\n",
       "      <td>32369</td>\n",
       "      <td>2</td>\n",
       "    </tr>\n",
       "    <tr>\n",
       "      <th>9</th>\n",
       "      <td>32785</td>\n",
       "      <td>3</td>\n",
       "    </tr>\n",
       "  </tbody>\n",
       "</table>\n",
       "</div>"
      ],
      "text/plain": [
       "   item_id  n_sold\n",
       "0    28116       1\n",
       "1    28117       1\n",
       "2    28143       1\n",
       "3    28186       1\n",
       "4    28304       1\n",
       "5    28966       1\n",
       "6    29037       1\n",
       "7    32111       1\n",
       "8    32369       2\n",
       "9    32785       3"
      ]
     },
     "execution_count": 11,
     "metadata": {},
     "output_type": "execute_result"
    }
   ],
   "source": [
    "popularity_ = data_train_matcher.groupby('item_id')['quantity'].sum().reset_index()\n",
    "popularity_.rename(columns={'quantity': 'n_sold'}, inplace=True)\n",
    "\n",
    "popularity_.head(10)"
   ]
  },
  {
   "cell_type": "markdown",
   "metadata": {},
   "source": [
    "#### Больше всего в колличественном выражении продется бензин, мы его в рассылках не рекомендуем, потому что это, скорее всего, заправка"
   ]
  },
  {
   "cell_type": "code",
   "execution_count": 12,
   "metadata": {},
   "outputs": [
    {
     "data": {
      "text/html": [
       "<div>\n",
       "<style scoped>\n",
       "    .dataframe tbody tr th:only-of-type {\n",
       "        vertical-align: middle;\n",
       "    }\n",
       "\n",
       "    .dataframe tbody tr th {\n",
       "        vertical-align: top;\n",
       "    }\n",
       "\n",
       "    .dataframe thead th {\n",
       "        text-align: right;\n",
       "    }\n",
       "</style>\n",
       "<table border=\"1\" class=\"dataframe\">\n",
       "  <thead>\n",
       "    <tr style=\"text-align: right;\">\n",
       "      <th></th>\n",
       "      <th>item_id</th>\n",
       "      <th>n_sold</th>\n",
       "      <th>manufacturer</th>\n",
       "      <th>department</th>\n",
       "      <th>brand</th>\n",
       "      <th>commodity_desc</th>\n",
       "      <th>sub_commodity_desc</th>\n",
       "      <th>curr_size_of_product</th>\n",
       "    </tr>\n",
       "  </thead>\n",
       "  <tbody>\n",
       "    <tr>\n",
       "      <th>0</th>\n",
       "      <td>397896</td>\n",
       "      <td>151803</td>\n",
       "      <td>69</td>\n",
       "      <td>KIOSK-GAS</td>\n",
       "      <td>Private</td>\n",
       "      <td>COUPON/MISC ITEMS</td>\n",
       "      <td>GASOLINE-REG UNLEADED</td>\n",
       "      <td></td>\n",
       "    </tr>\n",
       "    <tr>\n",
       "      <th>1</th>\n",
       "      <td>480014</td>\n",
       "      <td>67338</td>\n",
       "      <td>69</td>\n",
       "      <td>KIOSK-GAS</td>\n",
       "      <td>Private</td>\n",
       "      <td>COUPON/MISC ITEMS</td>\n",
       "      <td>GASOLINE-REG UNLEADED</td>\n",
       "      <td></td>\n",
       "    </tr>\n",
       "    <tr>\n",
       "      <th>2</th>\n",
       "      <td>707683</td>\n",
       "      <td>20226</td>\n",
       "      <td>69</td>\n",
       "      <td>MISC SALES TRAN</td>\n",
       "      <td>Private</td>\n",
       "      <td>COUPON/MISC ITEMS</td>\n",
       "      <td>GASOLINE-REG UNLEADED</td>\n",
       "      <td></td>\n",
       "    </tr>\n",
       "    <tr>\n",
       "      <th>3</th>\n",
       "      <td>1404121</td>\n",
       "      <td>93280</td>\n",
       "      <td>69</td>\n",
       "      <td>KIOSK-GAS</td>\n",
       "      <td>Private</td>\n",
       "      <td>COUPON/MISC ITEMS</td>\n",
       "      <td>GASOLINE-REG UNLEADED</td>\n",
       "      <td></td>\n",
       "    </tr>\n",
       "    <tr>\n",
       "      <th>4</th>\n",
       "      <td>1426702</td>\n",
       "      <td>33457</td>\n",
       "      <td>69</td>\n",
       "      <td>MISC SALES TRAN</td>\n",
       "      <td>Private</td>\n",
       "      <td>COUPON/MISC ITEMS</td>\n",
       "      <td>GASOLINE-REG UNLEADED</td>\n",
       "      <td></td>\n",
       "    </tr>\n",
       "    <tr>\n",
       "      <th>5</th>\n",
       "      <td>5703832</td>\n",
       "      <td>40861</td>\n",
       "      <td>69</td>\n",
       "      <td>KIOSK-GAS</td>\n",
       "      <td>Private</td>\n",
       "      <td>COUPON/MISC ITEMS</td>\n",
       "      <td>GASOLINE-REG UNLEADED</td>\n",
       "      <td></td>\n",
       "    </tr>\n",
       "    <tr>\n",
       "      <th>6</th>\n",
       "      <td>6410462</td>\n",
       "      <td>13851</td>\n",
       "      <td>69</td>\n",
       "      <td>KIOSK-GAS</td>\n",
       "      <td>Private</td>\n",
       "      <td>COUPON/MISC ITEMS</td>\n",
       "      <td>GASOLINE-REG UNLEADED</td>\n",
       "      <td></td>\n",
       "    </tr>\n",
       "    <tr>\n",
       "      <th>7</th>\n",
       "      <td>6410464</td>\n",
       "      <td>11814</td>\n",
       "      <td>69</td>\n",
       "      <td>MISC SALES TRAN</td>\n",
       "      <td>Private</td>\n",
       "      <td>COUPON/MISC ITEMS</td>\n",
       "      <td>GASOLINE-REG UNLEADED</td>\n",
       "      <td></td>\n",
       "    </tr>\n",
       "    <tr>\n",
       "      <th>8</th>\n",
       "      <td>6533889</td>\n",
       "      <td>1459599</td>\n",
       "      <td>69</td>\n",
       "      <td>MISC SALES TRAN</td>\n",
       "      <td>Private</td>\n",
       "      <td>COUPON/MISC ITEMS</td>\n",
       "      <td>GASOLINE-REG UNLEADED</td>\n",
       "      <td></td>\n",
       "    </tr>\n",
       "    <tr>\n",
       "      <th>9</th>\n",
       "      <td>6534166</td>\n",
       "      <td>1028651</td>\n",
       "      <td>69</td>\n",
       "      <td>MISC SALES TRAN</td>\n",
       "      <td>Private</td>\n",
       "      <td>COUPON/MISC ITEMS</td>\n",
       "      <td>GASOLINE-REG UNLEADED</td>\n",
       "      <td></td>\n",
       "    </tr>\n",
       "    <tr>\n",
       "      <th>10</th>\n",
       "      <td>6534178</td>\n",
       "      <td>14895326</td>\n",
       "      <td>69</td>\n",
       "      <td>KIOSK-GAS</td>\n",
       "      <td>Private</td>\n",
       "      <td>COUPON/MISC ITEMS</td>\n",
       "      <td>GASOLINE-REG UNLEADED</td>\n",
       "      <td></td>\n",
       "    </tr>\n",
       "    <tr>\n",
       "      <th>11</th>\n",
       "      <td>6544236</td>\n",
       "      <td>286705</td>\n",
       "      <td>69</td>\n",
       "      <td>MISC SALES TRAN</td>\n",
       "      <td>Private</td>\n",
       "      <td>COUPON/MISC ITEMS</td>\n",
       "      <td>GASOLINE-REG UNLEADED</td>\n",
       "      <td></td>\n",
       "    </tr>\n",
       "  </tbody>\n",
       "</table>\n",
       "</div>"
      ],
      "text/plain": [
       "    item_id    n_sold  manufacturer       department    brand  \\\n",
       "0    397896    151803            69        KIOSK-GAS  Private   \n",
       "1    480014     67338            69        KIOSK-GAS  Private   \n",
       "2    707683     20226            69  MISC SALES TRAN  Private   \n",
       "3   1404121     93280            69        KIOSK-GAS  Private   \n",
       "4   1426702     33457            69  MISC SALES TRAN  Private   \n",
       "5   5703832     40861            69        KIOSK-GAS  Private   \n",
       "6   6410462     13851            69        KIOSK-GAS  Private   \n",
       "7   6410464     11814            69  MISC SALES TRAN  Private   \n",
       "8   6533889   1459599            69  MISC SALES TRAN  Private   \n",
       "9   6534166   1028651            69  MISC SALES TRAN  Private   \n",
       "10  6534178  14895326            69        KIOSK-GAS  Private   \n",
       "11  6544236    286705            69  MISC SALES TRAN  Private   \n",
       "\n",
       "       commodity_desc     sub_commodity_desc curr_size_of_product  \n",
       "0   COUPON/MISC ITEMS  GASOLINE-REG UNLEADED                       \n",
       "1   COUPON/MISC ITEMS  GASOLINE-REG UNLEADED                       \n",
       "2   COUPON/MISC ITEMS  GASOLINE-REG UNLEADED                       \n",
       "3   COUPON/MISC ITEMS  GASOLINE-REG UNLEADED                       \n",
       "4   COUPON/MISC ITEMS  GASOLINE-REG UNLEADED                       \n",
       "5   COUPON/MISC ITEMS  GASOLINE-REG UNLEADED                       \n",
       "6   COUPON/MISC ITEMS  GASOLINE-REG UNLEADED                       \n",
       "7   COUPON/MISC ITEMS  GASOLINE-REG UNLEADED                       \n",
       "8   COUPON/MISC ITEMS  GASOLINE-REG UNLEADED                       \n",
       "9   COUPON/MISC ITEMS  GASOLINE-REG UNLEADED                       \n",
       "10  COUPON/MISC ITEMS  GASOLINE-REG UNLEADED                       \n",
       "11  COUPON/MISC ITEMS  GASOLINE-REG UNLEADED                       "
      ]
     },
     "execution_count": 12,
     "metadata": {},
     "output_type": "execute_result"
    }
   ],
   "source": [
    "top_n_sold = popularity_.loc[popularity_[\"n_sold\"] >= 10000]\n",
    "top_n_sold = pd.merge(top_n_sold, item_features, left_on='item_id', right_on='item_id')\n",
    "top_n_sold"
   ]
  },
  {
   "cell_type": "code",
   "execution_count": 13,
   "metadata": {},
   "outputs": [
    {
     "data": {
      "text/html": [
       "<div>\n",
       "<style scoped>\n",
       "    .dataframe tbody tr th:only-of-type {\n",
       "        vertical-align: middle;\n",
       "    }\n",
       "\n",
       "    .dataframe tbody tr th {\n",
       "        vertical-align: top;\n",
       "    }\n",
       "\n",
       "    .dataframe thead th {\n",
       "        text-align: right;\n",
       "    }\n",
       "</style>\n",
       "<table border=\"1\" class=\"dataframe\">\n",
       "  <thead>\n",
       "    <tr style=\"text-align: right;\">\n",
       "      <th></th>\n",
       "      <th>item_id</th>\n",
       "      <th>n_sold</th>\n",
       "      <th>manufacturer</th>\n",
       "      <th>department</th>\n",
       "      <th>brand</th>\n",
       "      <th>commodity_desc</th>\n",
       "      <th>sub_commodity_desc</th>\n",
       "      <th>curr_size_of_product</th>\n",
       "    </tr>\n",
       "  </thead>\n",
       "  <tbody>\n",
       "    <tr>\n",
       "      <th>0</th>\n",
       "      <td>820165</td>\n",
       "      <td>553</td>\n",
       "      <td>2</td>\n",
       "      <td>PRODUCE</td>\n",
       "      <td>National</td>\n",
       "      <td>CITRUS</td>\n",
       "      <td>ORANGES NAVELS ALL</td>\n",
       "      <td></td>\n",
       "    </tr>\n",
       "    <tr>\n",
       "      <th>1</th>\n",
       "      <td>883404</td>\n",
       "      <td>636</td>\n",
       "      <td>69</td>\n",
       "      <td>GROCERY</td>\n",
       "      <td>Private</td>\n",
       "      <td>BAKED BREAD/BUNS/ROLLS</td>\n",
       "      <td>MAINSTREAM WHITE BREAD</td>\n",
       "      <td>20 OZ</td>\n",
       "    </tr>\n",
       "    <tr>\n",
       "      <th>2</th>\n",
       "      <td>914190</td>\n",
       "      <td>860</td>\n",
       "      <td>317</td>\n",
       "      <td>GROCERY</td>\n",
       "      <td>National</td>\n",
       "      <td>CHEESE</td>\n",
       "      <td>CREAM CHEESE</td>\n",
       "      <td>L      8OZ</td>\n",
       "    </tr>\n",
       "    <tr>\n",
       "      <th>3</th>\n",
       "      <td>981760</td>\n",
       "      <td>671</td>\n",
       "      <td>69</td>\n",
       "      <td>GROCERY</td>\n",
       "      <td>Private</td>\n",
       "      <td>EGGS</td>\n",
       "      <td>EGGS - X-LARGE</td>\n",
       "      <td>1 DZ</td>\n",
       "    </tr>\n",
       "    <tr>\n",
       "      <th>4</th>\n",
       "      <td>995242</td>\n",
       "      <td>1185</td>\n",
       "      <td>69</td>\n",
       "      <td>GROCERY</td>\n",
       "      <td>Private</td>\n",
       "      <td>FLUID MILK PRODUCTS</td>\n",
       "      <td>FLUID MILK WHITE ONLY</td>\n",
       "      <td></td>\n",
       "    </tr>\n",
       "    <tr>\n",
       "      <th>5</th>\n",
       "      <td>995785</td>\n",
       "      <td>548</td>\n",
       "      <td>2</td>\n",
       "      <td>PRODUCE</td>\n",
       "      <td>National</td>\n",
       "      <td>PEPPERS-ALL</td>\n",
       "      <td>PEPPERS GREEN BELL</td>\n",
       "      <td>48-54 CT</td>\n",
       "    </tr>\n",
       "    <tr>\n",
       "      <th>6</th>\n",
       "      <td>1013321</td>\n",
       "      <td>507</td>\n",
       "      <td>69</td>\n",
       "      <td>GROCERY</td>\n",
       "      <td>Private</td>\n",
       "      <td>VEGETABLES - SHELF STABLE</td>\n",
       "      <td>BEANS GREEN: FS/WHL/CUT</td>\n",
       "      <td>14.5 OZ</td>\n",
       "    </tr>\n",
       "    <tr>\n",
       "      <th>7</th>\n",
       "      <td>1029743</td>\n",
       "      <td>1271</td>\n",
       "      <td>69</td>\n",
       "      <td>GROCERY</td>\n",
       "      <td>Private</td>\n",
       "      <td>FLUID MILK PRODUCTS</td>\n",
       "      <td>FLUID MILK WHITE ONLY</td>\n",
       "      <td>1 GA</td>\n",
       "    </tr>\n",
       "    <tr>\n",
       "      <th>8</th>\n",
       "      <td>1082185</td>\n",
       "      <td>1879</td>\n",
       "      <td>2</td>\n",
       "      <td>PRODUCE</td>\n",
       "      <td>National</td>\n",
       "      <td>TROPICAL FRUIT</td>\n",
       "      <td>BANANAS</td>\n",
       "      <td>40 LB</td>\n",
       "    </tr>\n",
       "    <tr>\n",
       "      <th>9</th>\n",
       "      <td>1106523</td>\n",
       "      <td>850</td>\n",
       "      <td>69</td>\n",
       "      <td>GROCERY</td>\n",
       "      <td>Private</td>\n",
       "      <td>FLUID MILK PRODUCTS</td>\n",
       "      <td>FLUID MILK WHITE ONLY</td>\n",
       "      <td>1 GA</td>\n",
       "    </tr>\n",
       "    <tr>\n",
       "      <th>10</th>\n",
       "      <td>1133018</td>\n",
       "      <td>695</td>\n",
       "      <td>69</td>\n",
       "      <td>GROCERY</td>\n",
       "      <td>Private</td>\n",
       "      <td>FLUID MILK PRODUCTS</td>\n",
       "      <td>FLUID MILK WHITE ONLY</td>\n",
       "      <td></td>\n",
       "    </tr>\n",
       "    <tr>\n",
       "      <th>11</th>\n",
       "      <td>5668996</td>\n",
       "      <td>4609</td>\n",
       "      <td>69</td>\n",
       "      <td>KIOSK-GAS</td>\n",
       "      <td>Private</td>\n",
       "      <td>COUPON/MISC ITEMS</td>\n",
       "      <td>GASOLINE-REG UNLEADED</td>\n",
       "      <td></td>\n",
       "    </tr>\n",
       "  </tbody>\n",
       "</table>\n",
       "</div>"
      ],
      "text/plain": [
       "    item_id  n_sold  manufacturer department     brand  \\\n",
       "0    820165     553             2    PRODUCE  National   \n",
       "1    883404     636            69    GROCERY   Private   \n",
       "2    914190     860           317    GROCERY  National   \n",
       "3    981760     671            69    GROCERY   Private   \n",
       "4    995242    1185            69    GROCERY   Private   \n",
       "5    995785     548             2    PRODUCE  National   \n",
       "6   1013321     507            69    GROCERY   Private   \n",
       "7   1029743    1271            69    GROCERY   Private   \n",
       "8   1082185    1879             2    PRODUCE  National   \n",
       "9   1106523     850            69    GROCERY   Private   \n",
       "10  1133018     695            69    GROCERY   Private   \n",
       "11  5668996    4609            69  KIOSK-GAS   Private   \n",
       "\n",
       "               commodity_desc       sub_commodity_desc curr_size_of_product  \n",
       "0                      CITRUS       ORANGES NAVELS ALL                       \n",
       "1      BAKED BREAD/BUNS/ROLLS   MAINSTREAM WHITE BREAD                20 OZ  \n",
       "2                      CHEESE             CREAM CHEESE           L      8OZ  \n",
       "3                        EGGS           EGGS - X-LARGE                 1 DZ  \n",
       "4         FLUID MILK PRODUCTS    FLUID MILK WHITE ONLY                       \n",
       "5                 PEPPERS-ALL       PEPPERS GREEN BELL             48-54 CT  \n",
       "6   VEGETABLES - SHELF STABLE  BEANS GREEN: FS/WHL/CUT              14.5 OZ  \n",
       "7         FLUID MILK PRODUCTS    FLUID MILK WHITE ONLY                 1 GA  \n",
       "8              TROPICAL FRUIT                  BANANAS                40 LB  \n",
       "9         FLUID MILK PRODUCTS    FLUID MILK WHITE ONLY                 1 GA  \n",
       "10        FLUID MILK PRODUCTS    FLUID MILK WHITE ONLY                       \n",
       "11          COUPON/MISC ITEMS    GASOLINE-REG UNLEADED                       "
      ]
     },
     "execution_count": 13,
     "metadata": {},
     "output_type": "execute_result"
    }
   ],
   "source": [
    "top_n_sold = popularity_.loc[(popularity_[\"n_sold\"] >= 500) & (popularity_[\"n_sold\"] < 10000)]\n",
    "top_n_sold = pd.merge(top_n_sold, item_features, left_on='item_id', right_on='item_id')\n",
    "top_n_sold"
   ]
  },
  {
   "cell_type": "code",
   "execution_count": 14,
   "metadata": {},
   "outputs": [
    {
     "name": "stdout",
     "output_type": "stream",
     "text": [
      "Decreased # items from 27649 to 1501\n"
     ]
    }
   ],
   "source": [
    "n_items_before = data_train_matcher['item_id'].nunique()\n",
    "# Сокращаем выбор для модели первого уровня до 1500 наиболее популярных товаров т.к. большая часть ассортимента имеет единичные покупки.\n",
    "data_train_matcher = prefilter_items(data_train_matcher, item_features=item_features, take_n_popular=1500)\n",
    "\n",
    "n_items_after = data_train_matcher['item_id'].nunique()\n",
    "print('Decreased # items from {} to {}'.format(n_items_before, n_items_after))"
   ]
  },
  {
   "cell_type": "markdown",
   "metadata": {},
   "source": [
    "# Make cold-start to warm-start"
   ]
  },
  {
   "cell_type": "code",
   "execution_count": 15,
   "metadata": {},
   "outputs": [
    {
     "name": "stdout",
     "output_type": "stream",
     "text": [
      "train_matcher\n",
      "Shape: (70033, 13) Users: 2100 Items: 1501  Min week: 86   Max week: 91\n",
      "val_matcher\n",
      "Shape: (115433, 12) Users: 1878 Items: 23961  Min week: 92   Max week: 95\n",
      "train_ranker\n",
      "Shape: (115433, 12) Users: 1878 Items: 23961  Min week: 92   Max week: 95\n",
      "val_ranker\n",
      "Shape: (85940, 12) Users: 1748 Items: 20210  Min week: 96   Max week: 98\n"
     ]
    }
   ],
   "source": [
    "# ищем общих пользователей\n",
    "common_users = data_train_matcher.user_id.values\n",
    "\n",
    "data_val_matcher = data_val_matcher[data_val_matcher.user_id.isin(common_users)]\n",
    "data_train_ranker = data_train_ranker[data_train_ranker.user_id.isin(common_users)]\n",
    "data_val_ranker = data_val_ranker[data_val_ranker.user_id.isin(common_users)]\n",
    "\n",
    "print_stats_data(data_train_matcher,'train_matcher')\n",
    "print_stats_data(data_val_matcher,'val_matcher')\n",
    "print_stats_data(data_train_ranker,'train_ranker')\n",
    "print_stats_data(data_val_ranker,'val_ranker')"
   ]
  },
  {
   "cell_type": "markdown",
   "metadata": {},
   "source": [
    "# Init/train recommender"
   ]
  },
  {
   "cell_type": "code",
   "execution_count": 16,
   "metadata": {},
   "outputs": [
    {
     "name": "stderr",
     "output_type": "stream",
     "text": [
      "WARNING:root:OpenBLAS detected. Its highly recommend to set the environment variable 'export OPENBLAS_NUM_THREADS=1' to disable its internal multithreading\n"
     ]
    },
    {
     "data": {
      "application/vnd.jupyter.widget-view+json": {
       "model_id": "270bc28238bb4fc8a04a4d76c817f893",
       "version_major": 2,
       "version_minor": 0
      },
      "text/plain": [
       "  0%|          | 0/15 [00:00<?, ?it/s]"
      ]
     },
     "metadata": {},
     "output_type": "display_data"
    },
    {
     "data": {
      "application/vnd.jupyter.widget-view+json": {
       "model_id": "e6640b872e3449a49ad8d76592e11345",
       "version_major": 2,
       "version_minor": 0
      },
      "text/plain": [
       "  0%|          | 0/15 [00:00<?, ?it/s]"
      ]
     },
     "metadata": {},
     "output_type": "display_data"
    },
    {
     "data": {
      "application/vnd.jupyter.widget-view+json": {
       "model_id": "23ea8f666ca54ca1a5ff03d45348630b",
       "version_major": 2,
       "version_minor": 0
      },
      "text/plain": [
       "  0%|          | 0/15 [00:00<?, ?it/s]"
      ]
     },
     "metadata": {},
     "output_type": "display_data"
    },
    {
     "data": {
      "application/vnd.jupyter.widget-view+json": {
       "model_id": "382dd68829324e24a6f544ab3961be16",
       "version_major": 2,
       "version_minor": 0
      },
      "text/plain": [
       "  0%|          | 0/1501 [00:00<?, ?it/s]"
      ]
     },
     "metadata": {},
     "output_type": "display_data"
    }
   ],
   "source": [
    "recommender = MainRecommender(data_train_matcher)"
   ]
  },
  {
   "cell_type": "markdown",
   "metadata": {},
   "source": [
    "# Eval recall of matching"
   ]
  },
  {
   "cell_type": "code",
   "execution_count": 17,
   "metadata": {},
   "outputs": [
    {
     "data": {
      "text/html": [
       "<div>\n",
       "<style scoped>\n",
       "    .dataframe tbody tr th:only-of-type {\n",
       "        vertical-align: middle;\n",
       "    }\n",
       "\n",
       "    .dataframe tbody tr th {\n",
       "        vertical-align: top;\n",
       "    }\n",
       "\n",
       "    .dataframe thead th {\n",
       "        text-align: right;\n",
       "    }\n",
       "</style>\n",
       "<table border=\"1\" class=\"dataframe\">\n",
       "  <thead>\n",
       "    <tr style=\"text-align: right;\">\n",
       "      <th></th>\n",
       "      <th>user_id</th>\n",
       "      <th>actual</th>\n",
       "    </tr>\n",
       "  </thead>\n",
       "  <tbody>\n",
       "    <tr>\n",
       "      <th>0</th>\n",
       "      <td>1</td>\n",
       "      <td>[821867, 834484, 856942, 865456, 889248, 90795...</td>\n",
       "    </tr>\n",
       "    <tr>\n",
       "      <th>1</th>\n",
       "      <td>6</td>\n",
       "      <td>[920308, 926804, 946489, 1006718, 1017061, 107...</td>\n",
       "    </tr>\n",
       "  </tbody>\n",
       "</table>\n",
       "</div>"
      ],
      "text/plain": [
       "   user_id                                             actual\n",
       "0        1  [821867, 834484, 856942, 865456, 889248, 90795...\n",
       "1        6  [920308, 926804, 946489, 1006718, 1017061, 107..."
      ]
     },
     "execution_count": 17,
     "metadata": {},
     "output_type": "execute_result"
    }
   ],
   "source": [
    "ACTUAL_COL = 'actual'\n",
    "result_eval_matcher = data_val_matcher.groupby(USER_COL)[ITEM_COL].unique().reset_index()\n",
    "result_eval_matcher.columns=[USER_COL, ACTUAL_COL]\n",
    "result_eval_matcher.head(2)"
   ]
  },
  {
   "cell_type": "code",
   "execution_count": 18,
   "metadata": {},
   "outputs": [],
   "source": [
    "def evalRecall(df_result, result_col_name, recommend_model, N):\n",
    "    target_col_name = 'actual'\n",
    "    df_result[result_col_name] = df_result['user_id'].apply(lambda x: recommend_model(x, N=N))\n",
    "    return df_result.apply(lambda row: recall_at_k(row[result_col_name], row[target_col_name], k=N), axis=1).mean()"
   ]
  },
  {
   "cell_type": "code",
   "execution_count": 19,
   "metadata": {},
   "outputs": [],
   "source": [
    "models = {'own_rec': recommender.get_own_recommendations,\n",
    "          'similar_items': recommender.get_similar_items_recommendation,\n",
    "          'als_rec': recommender.get_als_recommendations,\n",
    "          'als_tfidf': recommender.get_als_tfidf_recommendations,\n",
    "          'als_bm25': recommender.get_als_bm25_recommendations}\n",
    "\n",
    "results = {'own_rec': [],\n",
    "           'similar_items': [],\n",
    "           'als_rec': [],\n",
    "           'als_tfidf': [],\n",
    "           'als_bm25': []}"
   ]
  },
  {
   "cell_type": "markdown",
   "metadata": {},
   "source": [
    "### Обучим модель на N = 150"
   ]
  },
  {
   "cell_type": "code",
   "execution_count": 20,
   "metadata": {},
   "outputs": [
    {
     "data": {
      "text/html": [
       "<div>\n",
       "<style scoped>\n",
       "    .dataframe tbody tr th:only-of-type {\n",
       "        vertical-align: middle;\n",
       "    }\n",
       "\n",
       "    .dataframe tbody tr th {\n",
       "        vertical-align: top;\n",
       "    }\n",
       "\n",
       "    .dataframe thead th {\n",
       "        text-align: right;\n",
       "    }\n",
       "</style>\n",
       "<table border=\"1\" class=\"dataframe\">\n",
       "  <thead>\n",
       "    <tr style=\"text-align: right;\">\n",
       "      <th></th>\n",
       "      <th>user_id</th>\n",
       "      <th>actual</th>\n",
       "    </tr>\n",
       "  </thead>\n",
       "  <tbody>\n",
       "    <tr>\n",
       "      <th>0</th>\n",
       "      <td>1</td>\n",
       "      <td>[821867, 834484, 856942, 865456, 889248, 90795...</td>\n",
       "    </tr>\n",
       "    <tr>\n",
       "      <th>1</th>\n",
       "      <td>6</td>\n",
       "      <td>[920308, 926804, 946489, 1006718, 1017061, 107...</td>\n",
       "    </tr>\n",
       "  </tbody>\n",
       "</table>\n",
       "</div>"
      ],
      "text/plain": [
       "   user_id                                             actual\n",
       "0        1  [821867, 834484, 856942, 865456, 889248, 90795...\n",
       "1        6  [920308, 926804, 946489, 1006718, 1017061, 107..."
      ]
     },
     "execution_count": 20,
     "metadata": {},
     "output_type": "execute_result"
    }
   ],
   "source": [
    "N_PREDICT = 150\n",
    "result_eval_matcher = data_val_matcher.groupby(USER_COL)[ITEM_COL].unique().reset_index()\n",
    "result_eval_matcher.columns=[USER_COL, ACTUAL_COL]\n",
    "\n",
    "results = {'own_rec': [],\n",
    "           'similar_items': [],\n",
    "           'als_rec': [],\n",
    "           'als_tfidf': [],\n",
    "           'als_bm25': []}\n",
    "\n",
    "result_eval_matcher.head(2)"
   ]
  },
  {
   "cell_type": "code",
   "execution_count": 21,
   "metadata": {},
   "outputs": [],
   "source": [
    "for model in models.keys():\n",
    "    results[model].append(evalRecall(result_eval_matcher, model, models[model], N_PREDICT))"
   ]
  },
  {
   "cell_type": "code",
   "execution_count": 22,
   "metadata": {},
   "outputs": [
    {
     "data": {
      "text/plain": [
       "{'own_rec': [0.108651739513315],\n",
       " 'similar_items': [0.08874889405648632],\n",
       " 'als_rec': [0.07811716542650622],\n",
       " 'als_tfidf': [0.08299980889727956],\n",
       " 'als_bm25': [0.06699637778758959]}"
      ]
     },
     "execution_count": 22,
     "metadata": {},
     "output_type": "execute_result"
    }
   ],
   "source": [
    "results"
   ]
  },
  {
   "cell_type": "markdown",
   "metadata": {},
   "source": [
    "### Recall@5 of matching"
   ]
  },
  {
   "cell_type": "code",
   "execution_count": 23,
   "metadata": {},
   "outputs": [],
   "source": [
    "def calc_recall(df_data, top_k):\n",
    "    for col_name in df_data.columns[2:]:\n",
    "        yield col_name, df_data.apply(lambda row: recall_at_k(row[col_name], row[ACTUAL_COL], k=top_k), axis=1).mean()\n",
    "\n",
    "        \n",
    "def calc_precision(df_data, top_k):\n",
    "    for col_name in df_data.columns[2:]:\n",
    "        yield col_name, df_data.apply(lambda row: precision_at_k(row[col_name], row[ACTUAL_COL], k=top_k), axis=1).mean()"
   ]
  },
  {
   "cell_type": "code",
   "execution_count": 24,
   "metadata": {},
   "outputs": [],
   "source": [
    "TOPK_RECALL = 50\n",
    "TOPK_PRECISION = 5"
   ]
  },
  {
   "cell_type": "code",
   "execution_count": 25,
   "metadata": {},
   "outputs": [
    {
     "data": {
      "text/plain": [
       "[('own_rec', 0.07201909364246917),\n",
       " ('als_tfidf', 0.051657214892853846),\n",
       " ('als_rec', 0.04850677096447502),\n",
       " ('similar_items', 0.04535916852731075),\n",
       " ('als_bm25', 0.03845214603731507)]"
      ]
     },
     "execution_count": 25,
     "metadata": {},
     "output_type": "execute_result"
    }
   ],
   "source": [
    "sorted(calc_recall(result_eval_matcher, TOPK_RECALL), key=lambda x: x[1],reverse=True)"
   ]
  },
  {
   "cell_type": "markdown",
   "metadata": {},
   "source": [
    "#### own_reccomended показывает лучший precision и recal, т.е. покупатель систематично покупает одни и те же товары. Далее будем рекоммендовать товары из own_reccomended и затем ранжировать"
   ]
  },
  {
   "cell_type": "code",
   "execution_count": 26,
   "metadata": {},
   "outputs": [
    {
     "data": {
      "text/plain": [
       "[('own_rec', 0.19499467518636848),\n",
       " ('als_tfidf', 0.16528221512247074),\n",
       " ('als_rec', 0.13120340788072418),\n",
       " ('als_bm25', 0.11970181043663472),\n",
       " ('similar_items', 0.04930777422790202)]"
      ]
     },
     "execution_count": 26,
     "metadata": {},
     "output_type": "execute_result"
    }
   ],
   "source": [
    "sorted(calc_precision(result_eval_matcher, TOPK_PRECISION), key=lambda x: x[1],reverse=True)"
   ]
  },
  {
   "cell_type": "markdown",
   "metadata": {},
   "source": [
    "# Ranking part"
   ]
  },
  {
   "cell_type": "markdown",
   "metadata": {},
   "source": [
    "### Обучаем модель 2-ого уровня на выбранных кандидатах\n",
    "\n",
    "- Обучаем на data_train_ranking\n",
    "- Обучаем *только* на выбранных кандидатах\n",
    "- Лучший recall как увидели выше у get_own_recommendations, допустим сгенерировали 150 кандидатов (N_PREDICT = 150)"
   ]
  },
  {
   "cell_type": "markdown",
   "metadata": {},
   "source": [
    "## Подготовка данных для трейна"
   ]
  },
  {
   "cell_type": "code",
   "execution_count": 27,
   "metadata": {},
   "outputs": [
    {
     "data": {
      "text/html": [
       "<div>\n",
       "<style scoped>\n",
       "    .dataframe tbody tr th:only-of-type {\n",
       "        vertical-align: middle;\n",
       "    }\n",
       "\n",
       "    .dataframe tbody tr th {\n",
       "        vertical-align: top;\n",
       "    }\n",
       "\n",
       "    .dataframe thead th {\n",
       "        text-align: right;\n",
       "    }\n",
       "</style>\n",
       "<table border=\"1\" class=\"dataframe\">\n",
       "  <thead>\n",
       "    <tr style=\"text-align: right;\">\n",
       "      <th></th>\n",
       "      <th>user_id</th>\n",
       "      <th>candidates</th>\n",
       "    </tr>\n",
       "  </thead>\n",
       "  <tbody>\n",
       "    <tr>\n",
       "      <th>0</th>\n",
       "      <td>338</td>\n",
       "      <td>[5981072, 819840, 939770, 1068719, 960744, 102...</td>\n",
       "    </tr>\n",
       "    <tr>\n",
       "      <th>1</th>\n",
       "      <td>2120</td>\n",
       "      <td>[1029743, 1106523, 916122, 899624, 1044078, 10...</td>\n",
       "    </tr>\n",
       "  </tbody>\n",
       "</table>\n",
       "</div>"
      ],
      "text/plain": [
       "   user_id                                         candidates\n",
       "0      338  [5981072, 819840, 939770, 1068719, 960744, 102...\n",
       "1     2120  [1029743, 1106523, 916122, 899624, 1044078, 10..."
      ]
     },
     "execution_count": 27,
     "metadata": {},
     "output_type": "execute_result"
    }
   ],
   "source": [
    "# взяли пользователей из трейна для ранжирования\n",
    "df_match_candidates = pd.DataFrame(data_train_ranker[USER_COL].unique())\n",
    "df_match_candidates.columns = [USER_COL]\n",
    "\n",
    "# собираем кандитатов с первого этапа (matcher), N_PREDICT = 150\n",
    "df_match_candidates['candidates'] = df_match_candidates[USER_COL].apply(lambda x: recommender.get_own_recommendations(x, N=N_PREDICT))\n",
    "df_match_candidates.head(2)"
   ]
  },
  {
   "cell_type": "code",
   "execution_count": 28,
   "metadata": {},
   "outputs": [
    {
     "data": {
      "text/html": [
       "<div>\n",
       "<style scoped>\n",
       "    .dataframe tbody tr th:only-of-type {\n",
       "        vertical-align: middle;\n",
       "    }\n",
       "\n",
       "    .dataframe tbody tr th {\n",
       "        vertical-align: top;\n",
       "    }\n",
       "\n",
       "    .dataframe thead th {\n",
       "        text-align: right;\n",
       "    }\n",
       "</style>\n",
       "<table border=\"1\" class=\"dataframe\">\n",
       "  <thead>\n",
       "    <tr style=\"text-align: right;\">\n",
       "      <th></th>\n",
       "      <th>user_id</th>\n",
       "      <th>item_id</th>\n",
       "    </tr>\n",
       "  </thead>\n",
       "  <tbody>\n",
       "    <tr>\n",
       "      <th>0</th>\n",
       "      <td>338</td>\n",
       "      <td>5981072</td>\n",
       "    </tr>\n",
       "    <tr>\n",
       "      <th>0</th>\n",
       "      <td>338</td>\n",
       "      <td>819840</td>\n",
       "    </tr>\n",
       "    <tr>\n",
       "      <th>0</th>\n",
       "      <td>338</td>\n",
       "      <td>939770</td>\n",
       "    </tr>\n",
       "    <tr>\n",
       "      <th>0</th>\n",
       "      <td>338</td>\n",
       "      <td>1068719</td>\n",
       "    </tr>\n",
       "  </tbody>\n",
       "</table>\n",
       "</div>"
      ],
      "text/plain": [
       "   user_id  item_id\n",
       "0      338  5981072\n",
       "0      338   819840\n",
       "0      338   939770\n",
       "0      338  1068719"
      ]
     },
     "execution_count": 28,
     "metadata": {},
     "output_type": "execute_result"
    }
   ],
   "source": [
    "# Делаем unpivot кандидатов для каждого юзера\n",
    "df_items = df_match_candidates.apply(lambda x: pd.Series(x['candidates']), axis=1).stack().reset_index(level=1, drop=True)\n",
    "df_items.name = 'item_id'\n",
    "\n",
    "df_match_candidates = df_match_candidates.drop('candidates', axis=1).join(df_items)\n",
    "df_match_candidates.head(4)"
   ]
  },
  {
   "cell_type": "markdown",
   "metadata": {},
   "source": [
    "### Check warm start"
   ]
  },
  {
   "cell_type": "code",
   "execution_count": 29,
   "metadata": {
    "scrolled": true
   },
   "outputs": [
    {
     "name": "stdout",
     "output_type": "stream",
     "text": [
      "match_candidates\n",
      "Shape: (281700, 2) Users: 1878 Items: 1479\n"
     ]
    }
   ],
   "source": [
    "print_stats_data_less(df_match_candidates, 'match_candidates')"
   ]
  },
  {
   "cell_type": "markdown",
   "metadata": {},
   "source": [
    "### Создаем трейн сет для ранжирования с учетом кандидатов с этапа 1 "
   ]
  },
  {
   "cell_type": "code",
   "execution_count": 30,
   "metadata": {},
   "outputs": [],
   "source": [
    "df_ranker_train = data_train_ranker[[USER_COL, ITEM_COL]].copy()\n",
    "df_ranker_train['target'] = 1  # тут только покупки \n",
    "\n",
    "# Не хватает нулей в датасете, поэтому добавляем наших кандитатов в качество нулей\n",
    "df_ranker_train = df_match_candidates.merge(df_ranker_train, on=[USER_COL, ITEM_COL], how='left')\n",
    "\n",
    "# чистим дубликаты\n",
    "df_ranker_train = df_ranker_train.drop_duplicates(subset=[USER_COL, ITEM_COL])\n",
    "df_ranker_train['target'].fillna(0, inplace= True)"
   ]
  },
  {
   "cell_type": "code",
   "execution_count": 31,
   "metadata": {},
   "outputs": [
    {
     "data": {
      "text/plain": [
       "0.0    262573\n",
       "1.0     10944\n",
       "Name: target, dtype: int64"
      ]
     },
     "execution_count": 31,
     "metadata": {},
     "output_type": "execute_result"
    }
   ],
   "source": [
    "df_ranker_train.target.value_counts()"
   ]
  },
  {
   "cell_type": "code",
   "execution_count": 32,
   "metadata": {},
   "outputs": [
    {
     "data": {
      "text/html": [
       "<div>\n",
       "<style scoped>\n",
       "    .dataframe tbody tr th:only-of-type {\n",
       "        vertical-align: middle;\n",
       "    }\n",
       "\n",
       "    .dataframe tbody tr th {\n",
       "        vertical-align: top;\n",
       "    }\n",
       "\n",
       "    .dataframe thead th {\n",
       "        text-align: right;\n",
       "    }\n",
       "</style>\n",
       "<table border=\"1\" class=\"dataframe\">\n",
       "  <thead>\n",
       "    <tr style=\"text-align: right;\">\n",
       "      <th></th>\n",
       "      <th>user_id</th>\n",
       "      <th>item_id</th>\n",
       "      <th>target</th>\n",
       "    </tr>\n",
       "  </thead>\n",
       "  <tbody>\n",
       "    <tr>\n",
       "      <th>0</th>\n",
       "      <td>338</td>\n",
       "      <td>5981072</td>\n",
       "      <td>0.0</td>\n",
       "    </tr>\n",
       "    <tr>\n",
       "      <th>1</th>\n",
       "      <td>338</td>\n",
       "      <td>819840</td>\n",
       "      <td>0.0</td>\n",
       "    </tr>\n",
       "  </tbody>\n",
       "</table>\n",
       "</div>"
      ],
      "text/plain": [
       "   user_id  item_id  target\n",
       "0      338  5981072     0.0\n",
       "1      338   819840     0.0"
      ]
     },
     "execution_count": 32,
     "metadata": {},
     "output_type": "execute_result"
    }
   ],
   "source": [
    "df_ranker_train.head(2)"
   ]
  },
  {
   "cell_type": "markdown",
   "metadata": {},
   "source": [
    "(!) На каждого юзера 150 item_id-кандидатов"
   ]
  },
  {
   "cell_type": "code",
   "execution_count": 33,
   "metadata": {},
   "outputs": [
    {
     "data": {
      "text/plain": [
       "0.04001213818519507"
      ]
     },
     "execution_count": 33,
     "metadata": {},
     "output_type": "execute_result"
    }
   ],
   "source": [
    "df_ranker_train['target'].mean()"
   ]
  },
  {
   "cell_type": "markdown",
   "metadata": {},
   "source": [
    "## Подготавливаем фичи для обучения модели"
   ]
  },
  {
   "cell_type": "code",
   "execution_count": 34,
   "metadata": {},
   "outputs": [
    {
     "data": {
      "text/html": [
       "<div>\n",
       "<style scoped>\n",
       "    .dataframe tbody tr th:only-of-type {\n",
       "        vertical-align: middle;\n",
       "    }\n",
       "\n",
       "    .dataframe tbody tr th {\n",
       "        vertical-align: top;\n",
       "    }\n",
       "\n",
       "    .dataframe thead th {\n",
       "        text-align: right;\n",
       "    }\n",
       "</style>\n",
       "<table border=\"1\" class=\"dataframe\">\n",
       "  <thead>\n",
       "    <tr style=\"text-align: right;\">\n",
       "      <th></th>\n",
       "      <th>item_id</th>\n",
       "      <th>manufacturer</th>\n",
       "      <th>department</th>\n",
       "      <th>brand</th>\n",
       "      <th>commodity_desc</th>\n",
       "      <th>sub_commodity_desc</th>\n",
       "      <th>curr_size_of_product</th>\n",
       "    </tr>\n",
       "  </thead>\n",
       "  <tbody>\n",
       "    <tr>\n",
       "      <th>0</th>\n",
       "      <td>25671</td>\n",
       "      <td>2</td>\n",
       "      <td>GROCERY</td>\n",
       "      <td>National</td>\n",
       "      <td>FRZN ICE</td>\n",
       "      <td>ICE - CRUSHED/CUBED</td>\n",
       "      <td>22 LB</td>\n",
       "    </tr>\n",
       "    <tr>\n",
       "      <th>1</th>\n",
       "      <td>26081</td>\n",
       "      <td>2</td>\n",
       "      <td>MISC. TRANS.</td>\n",
       "      <td>National</td>\n",
       "      <td>NO COMMODITY DESCRIPTION</td>\n",
       "      <td>NO SUBCOMMODITY DESCRIPTION</td>\n",
       "      <td></td>\n",
       "    </tr>\n",
       "  </tbody>\n",
       "</table>\n",
       "</div>"
      ],
      "text/plain": [
       "   item_id  manufacturer    department     brand            commodity_desc  \\\n",
       "0    25671             2       GROCERY  National                  FRZN ICE   \n",
       "1    26081             2  MISC. TRANS.  National  NO COMMODITY DESCRIPTION   \n",
       "\n",
       "            sub_commodity_desc curr_size_of_product  \n",
       "0          ICE - CRUSHED/CUBED                22 LB  \n",
       "1  NO SUBCOMMODITY DESCRIPTION                       "
      ]
     },
     "execution_count": 34,
     "metadata": {},
     "output_type": "execute_result"
    }
   ],
   "source": [
    "item_features.head(2)"
   ]
  },
  {
   "cell_type": "code",
   "execution_count": 35,
   "metadata": {},
   "outputs": [
    {
     "data": {
      "text/html": [
       "<div>\n",
       "<style scoped>\n",
       "    .dataframe tbody tr th:only-of-type {\n",
       "        vertical-align: middle;\n",
       "    }\n",
       "\n",
       "    .dataframe tbody tr th {\n",
       "        vertical-align: top;\n",
       "    }\n",
       "\n",
       "    .dataframe thead th {\n",
       "        text-align: right;\n",
       "    }\n",
       "</style>\n",
       "<table border=\"1\" class=\"dataframe\">\n",
       "  <thead>\n",
       "    <tr style=\"text-align: right;\">\n",
       "      <th></th>\n",
       "      <th>age_desc</th>\n",
       "      <th>marital_status_code</th>\n",
       "      <th>income_desc</th>\n",
       "      <th>homeowner_desc</th>\n",
       "      <th>hh_comp_desc</th>\n",
       "      <th>household_size_desc</th>\n",
       "      <th>kid_category_desc</th>\n",
       "      <th>user_id</th>\n",
       "    </tr>\n",
       "  </thead>\n",
       "  <tbody>\n",
       "    <tr>\n",
       "      <th>0</th>\n",
       "      <td>65+</td>\n",
       "      <td>A</td>\n",
       "      <td>35-49K</td>\n",
       "      <td>Homeowner</td>\n",
       "      <td>2 Adults No Kids</td>\n",
       "      <td>2</td>\n",
       "      <td>None/Unknown</td>\n",
       "      <td>1</td>\n",
       "    </tr>\n",
       "    <tr>\n",
       "      <th>1</th>\n",
       "      <td>45-54</td>\n",
       "      <td>A</td>\n",
       "      <td>50-74K</td>\n",
       "      <td>Homeowner</td>\n",
       "      <td>2 Adults No Kids</td>\n",
       "      <td>2</td>\n",
       "      <td>None/Unknown</td>\n",
       "      <td>7</td>\n",
       "    </tr>\n",
       "  </tbody>\n",
       "</table>\n",
       "</div>"
      ],
      "text/plain": [
       "  age_desc marital_status_code income_desc homeowner_desc      hh_comp_desc  \\\n",
       "0      65+                   A      35-49K      Homeowner  2 Adults No Kids   \n",
       "1    45-54                   A      50-74K      Homeowner  2 Adults No Kids   \n",
       "\n",
       "  household_size_desc kid_category_desc  user_id  \n",
       "0                   2      None/Unknown        1  \n",
       "1                   2      None/Unknown        7  "
      ]
     },
     "execution_count": 35,
     "metadata": {},
     "output_type": "execute_result"
    }
   ],
   "source": [
    "user_features.head(2)"
   ]
  },
  {
   "cell_type": "markdown",
   "metadata": {},
   "source": [
    "#### Фичи user_id"
   ]
  },
  {
   "cell_type": "code",
   "execution_count": 36,
   "metadata": {},
   "outputs": [
    {
     "data": {
      "text/plain": [
       "user_id\n",
       "1    3.035\n",
       "2    3.086\n",
       "3    2.069\n",
       "4    4.588\n",
       "6    3.315\n",
       "Name: user_atv, dtype: float64"
      ]
     },
     "execution_count": 36,
     "metadata": {},
     "output_type": "execute_result"
    }
   ],
   "source": [
    "# Средний чек\n",
    "user_atv = df_join_train_matcher.groupby(['user_id', 'basket_id'])[['sales_value']].mean().reset_index().groupby('user_id')['sales_value'].mean()\n",
    "user_atv.name = 'user_atv'\n",
    "user_atv = np.round(user_atv, decimals=3)\n",
    "user_atv.head()"
   ]
  },
  {
   "cell_type": "code",
   "execution_count": 37,
   "metadata": {},
   "outputs": [
    {
     "data": {
      "text/plain": [
       "user_id\n",
       "1    71.667\n",
       "2       inf\n",
       "3       inf\n",
       "4       inf\n",
       "6    55.333\n",
       "Name: monthly_user_frequency, dtype: float64"
      ]
     },
     "execution_count": 37,
     "metadata": {},
     "output_type": "execute_result"
    }
   ],
   "source": [
    "# Частотность покупок раз/месяц\n",
    "df_join_train_matcher['month'] = df_join_train_matcher['day'].apply(lambda x: (x+30)//30)\n",
    "\n",
    "avg_month_count = df_join_train_matcher.groupby(['user_id']).agg({ 'month': ['min', 'max'] }).reset_index()\n",
    "avg_month_count['months_count'] = avg_month_count['month','max'] - avg_month_count['month','min']\n",
    "avg_month_count.drop([('month','min'), ('month','max')], axis=1, inplace=True)\n",
    "avg_month_count.set_index('user_id',inplace = True)\n",
    "\n",
    "user_freq = df_join_train_matcher.groupby(['user_id'])['basket_id'].count() / avg_month_count['months_count']\n",
    "user_freq.name = 'monthly_user_frequency'\n",
    "user_freq = np.round(user_freq, decimals=3)\n",
    "user_freq.head()"
   ]
  },
  {
   "cell_type": "code",
   "execution_count": 38,
   "metadata": {},
   "outputs": [
    {
     "data": {
      "text/plain": [
       "user_id\n",
       "1    180.633\n",
       "2        inf\n",
       "3        inf\n",
       "4        inf\n",
       "6    173.897\n",
       "Name: monthly_user_salesval, dtype: float64"
      ]
     },
     "execution_count": 38,
     "metadata": {},
     "output_type": "execute_result"
    }
   ],
   "source": [
    "# средняя стоимость покупок в месяц\n",
    "user_sales_val = df_join_train_matcher.groupby(['user_id'])['sales_value'].sum().rename('monthly_user_salesval') / avg_month_count['months_count']\n",
    "user_sales_val.name = 'monthly_user_salesval'\n",
    "user_sales_val = np.round(user_sales_val, decimals=3)\n",
    "user_sales_val.head()"
   ]
  },
  {
   "cell_type": "markdown",
   "metadata": {},
   "source": [
    "#### Фичи item_id"
   ]
  },
  {
   "cell_type": "code",
   "execution_count": 39,
   "metadata": {},
   "outputs": [
    {
     "data": {
      "text/plain": [
       "item_id\n",
       "28116    0.011\n",
       "28117    0.011\n",
       "28143    0.011\n",
       "28186    0.011\n",
       "28304    0.011\n",
       "Name: item_per_week, dtype: float64"
      ]
     },
     "execution_count": 39,
     "metadata": {},
     "output_type": "execute_result"
    }
   ],
   "source": [
    "# Среднее кол-во покупок item_id в неделю\n",
    "item_per_week = df_join_train_matcher.groupby(['item_id'])['quantity'].sum().rename('item_per_week') / df_join_train_matcher['week_no'].max() \n",
    "item_per_week = np.round(item_per_week, decimals=3)\n",
    "item_per_week.head()"
   ]
  },
  {
   "cell_type": "code",
   "execution_count": 40,
   "metadata": {},
   "outputs": [
    {
     "data": {
      "text/plain": [
       "item_id\n",
       "17991689    0.0000\n",
       "17991691    0.0000\n",
       "18000012    0.0001\n",
       "18024155    0.0000\n",
       "18024556    0.0001\n",
       "Name: item_freq_per_basket, dtype: float64"
      ]
     },
     "execution_count": 40,
     "metadata": {},
     "output_type": "execute_result"
    }
   ],
   "source": [
    "# Средняя частота item в корзине\n",
    "item_freq_per_basket = df_join_train_matcher.groupby(['item_id']).agg('user_id').count().rename('item_freq_per_basket')/df_join_train_matcher.basket_id.nunique()\n",
    "item_freq_per_basket = np.round(item_freq_per_basket, decimals=4)\n",
    "item_freq_per_basket.tail()"
   ]
  },
  {
   "cell_type": "code",
   "execution_count": 41,
   "metadata": {},
   "outputs": [
    {
     "data": {
      "text/plain": [
       "item_id\n",
       "17991689    0.0000\n",
       "17991691    0.0000\n",
       "18000012    0.0001\n",
       "18024155    0.0000\n",
       "18024556    0.0001\n",
       "Name: item_quantity_per_basket, dtype: float64"
      ]
     },
     "execution_count": 41,
     "metadata": {},
     "output_type": "execute_result"
    }
   ],
   "source": [
    "# Среднее кол-во item в корзине\n",
    "item_quantity_per_basket = df_join_train_matcher.groupby(['item_id']).agg('quantity').sum().rename('item_quantity_per_basket')/df_join_train_matcher.basket_id.nunique()\n",
    "item_quantity_per_basket = np.round(item_quantity_per_basket, decimals=4)\n",
    "item_quantity_per_basket.tail()"
   ]
  },
  {
   "cell_type": "code",
   "execution_count": 42,
   "metadata": {},
   "outputs": [
    {
     "data": {
      "text/plain": [
       "item_id\n",
       "28116    0.33\n",
       "28117    0.34\n",
       "28143    0.33\n",
       "28186    0.79\n",
       "28304    0.53\n",
       "Name: item_price, dtype: float64"
      ]
     },
     "execution_count": 42,
     "metadata": {},
     "output_type": "execute_result"
    }
   ],
   "source": [
    "# Цена (Можно посчитать из retil_train.csv) - цена есть в таблице взаимодействий\n",
    "item_price = df_join_train_matcher.groupby(['item_id']).agg({'quantity': 'sum', 'sales_value': 'sum'})\n",
    "item_price = item_price['sales_value'] / item_price['quantity']\n",
    "item_price.name = 'item_price'\n",
    "item_price = np.round(item_price, decimals=2)\n",
    "item_price.head()"
   ]
  },
  {
   "cell_type": "code",
   "execution_count": 43,
   "metadata": {},
   "outputs": [
    {
     "data": {
      "text/plain": [
       "item_id\n",
       "17214973    3.063\n",
       "471772      0.421\n",
       "1070538     0.011\n",
       "1847410     0.842\n",
       "15681643    0.011\n",
       "Name: category_freq, dtype: float64"
      ]
     },
     "execution_count": 43,
     "metadata": {},
     "output_type": "execute_result"
    }
   ],
   "source": [
    "# Среднее кол-во покупок 1 товара в категории в неделю\n",
    "data_categ = pd.merge(df_join_train_matcher, item_features, how='inner', on='item_id')\n",
    "\n",
    "categ_freq_ = data_categ.groupby(['department'])['quantity'].sum()\n",
    "categ_item_freq_ = data_categ.groupby(['department','item_id'])['quantity'].sum().reset_index()\n",
    "\n",
    "categ_freq = pd.merge(categ_item_freq_, categ_freq_, on='department')\n",
    "categ_freq['category_freq'] = categ_freq['quantity_y'] / df_join_train_matcher['week_no'].max() / categ_freq['quantity_x']\n",
    "categ_freq.set_index('item_id', inplace=True)\n",
    "category_freq = categ_freq['category_freq']\n",
    "category_freq = np.round(category_freq, decimals=3)\n",
    "category_freq.tail()"
   ]
  },
  {
   "cell_type": "code",
   "execution_count": 44,
   "metadata": {},
   "outputs": [],
   "source": [
    "# Генерируем признак - is_gasoline\n",
    "item_features['is_gasoline'] = np.where(item_features['sub_commodity_desc'] == 'GASOLINE-REG UNLEADED', 1, 0)"
   ]
  },
  {
   "cell_type": "code",
   "execution_count": 45,
   "metadata": {},
   "outputs": [
    {
     "data": {
      "text/plain": [
       "item_id\n",
       "17991689    0.000\n",
       "17991691    0.000\n",
       "18000012    0.031\n",
       "18024155    0.000\n",
       "18024556    0.000\n",
       "Name: freq_ratio_1, dtype: float64"
      ]
     },
     "execution_count": 45,
     "metadata": {},
     "output_type": "execute_result"
    }
   ],
   "source": [
    "# (Кол-во покупок в неделю) / (Среднее кол-во покупок 1 товара в категории в неделю)\n",
    "freq_ratio_1 = item_per_week / category_freq\n",
    "freq_ratio_1.name = 'freq_ratio_1'\n",
    "freq_ratio_1 = np.round(freq_ratio_1, decimals=3)\n",
    "freq_ratio_1.tail()"
   ]
  },
  {
   "cell_type": "code",
   "execution_count": 46,
   "metadata": {},
   "outputs": [
    {
     "data": {
      "text/plain": [
       "item_id\n",
       "28116    0.372\n",
       "28117    0.384\n",
       "28143    0.372\n",
       "28186    0.590\n",
       "28304    0.420\n",
       "Name: price_diff, dtype: float64"
      ]
     },
     "execution_count": 46,
     "metadata": {},
     "output_type": "execute_result"
    }
   ],
   "source": [
    "# Цена / Средняя цена товара в категории\n",
    "data_categ['price'] = data_categ['sales_value']/data_categ['quantity']\n",
    "avg_categ_price = data_categ.groupby(['commodity_desc'])['price'].mean()\n",
    "data_categ_avg = pd.merge(data_categ, avg_categ_price, on='commodity_desc', suffixes=('_x', '_y'))\n",
    "data_categ_avg = data_categ_avg.groupby(['item_id']).agg({'price_x': 'mean', 'price_y': 'mean'})\n",
    "\n",
    "price_diff = data_categ_avg['price_x'] / data_categ_avg['price_y']\n",
    "price_diff.name = 'price_diff'\n",
    "price_diff = np.round(price_diff, decimals=3)\n",
    "price_diff.head()"
   ]
  },
  {
   "cell_type": "markdown",
   "metadata": {},
   "source": [
    "#### Фичи пары user_id - item_id"
   ]
  },
  {
   "cell_type": "code",
   "execution_count": 47,
   "metadata": {},
   "outputs": [
    {
     "data": {
      "text/html": [
       "<div>\n",
       "<style scoped>\n",
       "    .dataframe tbody tr th:only-of-type {\n",
       "        vertical-align: middle;\n",
       "    }\n",
       "\n",
       "    .dataframe tbody tr th {\n",
       "        vertical-align: top;\n",
       "    }\n",
       "\n",
       "    .dataframe thead th {\n",
       "        text-align: right;\n",
       "    }\n",
       "</style>\n",
       "<table border=\"1\" class=\"dataframe\">\n",
       "  <thead>\n",
       "    <tr style=\"text-align: right;\">\n",
       "      <th></th>\n",
       "      <th>user_id</th>\n",
       "      <th>department</th>\n",
       "      <th>freq_ratio_2</th>\n",
       "    </tr>\n",
       "  </thead>\n",
       "  <tbody>\n",
       "    <tr>\n",
       "      <th>16632</th>\n",
       "      <td>886</td>\n",
       "      <td>AUTOMOTIVE</td>\n",
       "      <td>0.33333</td>\n",
       "    </tr>\n",
       "    <tr>\n",
       "      <th>16633</th>\n",
       "      <td>1379</td>\n",
       "      <td>AUTOMOTIVE</td>\n",
       "      <td>0.33333</td>\n",
       "    </tr>\n",
       "    <tr>\n",
       "      <th>16634</th>\n",
       "      <td>820</td>\n",
       "      <td>VIDEO</td>\n",
       "      <td>1.00000</td>\n",
       "    </tr>\n",
       "    <tr>\n",
       "      <th>16635</th>\n",
       "      <td>2168</td>\n",
       "      <td>PHOTO</td>\n",
       "      <td>0.50000</td>\n",
       "    </tr>\n",
       "    <tr>\n",
       "      <th>16636</th>\n",
       "      <td>2322</td>\n",
       "      <td>PHOTO</td>\n",
       "      <td>0.50000</td>\n",
       "    </tr>\n",
       "  </tbody>\n",
       "</table>\n",
       "</div>"
      ],
      "text/plain": [
       "       user_id  department  freq_ratio_2\n",
       "16632      886  AUTOMOTIVE       0.33333\n",
       "16633     1379  AUTOMOTIVE       0.33333\n",
       "16634      820       VIDEO       1.00000\n",
       "16635     2168       PHOTO       0.50000\n",
       "16636     2322       PHOTO       0.50000"
      ]
     },
     "execution_count": 47,
     "metadata": {},
     "output_type": "execute_result"
    }
   ],
   "source": [
    "# (Кол-во покупок юзером конкретной категории в неделю) / (Среднее кол-во покупок всеми юзерами конкретной категории в неделю)\n",
    "\n",
    "categ_user_freq_ = data_categ.groupby(['user_id', 'department'])['quantity'].sum().reset_index()\n",
    "categ_user_freq_['category_freq'] = categ_user_freq_['quantity'] / data_train_matcher['week_no'].max()\n",
    "\n",
    "categ_user_freq = pd.merge(categ_user_freq_, categ_freq_, on='department')\n",
    "categ_user_freq['avg_weekly_freq'] = categ_user_freq['quantity_y'] / data_train_matcher['week_no'].max()\n",
    "categ_user_freq['freq_ratio_2'] = categ_user_freq['category_freq'] / categ_user_freq['avg_weekly_freq']\n",
    "\n",
    "user_dep_ratio_2 = categ_user_freq.filter(['user_id', 'department', 'freq_ratio_2'], axis=1)\n",
    "user_dep_ratio_2 = np.round(user_dep_ratio_2, decimals=5)\n",
    "user_dep_ratio_2.tail()"
   ]
  },
  {
   "cell_type": "code",
   "execution_count": 48,
   "metadata": {},
   "outputs": [
    {
     "data": {
      "text/html": [
       "<div>\n",
       "<style scoped>\n",
       "    .dataframe tbody tr th:only-of-type {\n",
       "        vertical-align: middle;\n",
       "    }\n",
       "\n",
       "    .dataframe tbody tr th {\n",
       "        vertical-align: top;\n",
       "    }\n",
       "\n",
       "    .dataframe thead th {\n",
       "        text-align: right;\n",
       "    }\n",
       "</style>\n",
       "<table border=\"1\" class=\"dataframe\">\n",
       "  <thead>\n",
       "    <tr style=\"text-align: right;\">\n",
       "      <th></th>\n",
       "      <th>user_id</th>\n",
       "      <th>department</th>\n",
       "      <th>freq_ratio_3</th>\n",
       "    </tr>\n",
       "  </thead>\n",
       "  <tbody>\n",
       "    <tr>\n",
       "      <th>16632</th>\n",
       "      <td>886</td>\n",
       "      <td>AUTOMOTIVE</td>\n",
       "      <td>-0.02</td>\n",
       "    </tr>\n",
       "    <tr>\n",
       "      <th>16633</th>\n",
       "      <td>1379</td>\n",
       "      <td>AUTOMOTIVE</td>\n",
       "      <td>-0.02</td>\n",
       "    </tr>\n",
       "    <tr>\n",
       "      <th>16634</th>\n",
       "      <td>820</td>\n",
       "      <td>VIDEO</td>\n",
       "      <td>0.00</td>\n",
       "    </tr>\n",
       "    <tr>\n",
       "      <th>16635</th>\n",
       "      <td>2168</td>\n",
       "      <td>PHOTO</td>\n",
       "      <td>-0.01</td>\n",
       "    </tr>\n",
       "    <tr>\n",
       "      <th>16636</th>\n",
       "      <td>2322</td>\n",
       "      <td>PHOTO</td>\n",
       "      <td>-0.01</td>\n",
       "    </tr>\n",
       "  </tbody>\n",
       "</table>\n",
       "</div>"
      ],
      "text/plain": [
       "       user_id  department  freq_ratio_3\n",
       "16632      886  AUTOMOTIVE         -0.02\n",
       "16633     1379  AUTOMOTIVE         -0.02\n",
       "16634      820       VIDEO          0.00\n",
       "16635     2168       PHOTO         -0.01\n",
       "16636     2322       PHOTO         -0.01"
      ]
     },
     "execution_count": 48,
     "metadata": {},
     "output_type": "execute_result"
    }
   ],
   "source": [
    "# (Кол-во покупок юзером конкретной категории в неделю) - (Среднее кол-во покупок всеми юзерами конкретной категории в неделю)\n",
    "categ_user_freq['freq_ratio_3'] = categ_user_freq['category_freq'] - categ_user_freq['avg_weekly_freq']\n",
    "user_dep_ratio_3 = categ_user_freq.filter(['user_id', 'department', 'freq_ratio_3'], axis=1)\n",
    "user_dep_ratio_3 = np.round(user_dep_ratio_3, decimals=2)\n",
    "user_dep_ratio_3.tail()"
   ]
  },
  {
   "cell_type": "code",
   "execution_count": 49,
   "metadata": {},
   "outputs": [],
   "source": [
    "# Также добавляем блок сгенерированных быстрых фичей\n",
    "df_ranker_train = df_ranker_train.merge(df_join_train_matcher.groupby(by=ITEM_COL).agg('sales_value').sum().rename('total_item_sales_value'), how='left',on=ITEM_COL)\n",
    "\n",
    "df_ranker_train = df_ranker_train.merge(df_join_train_matcher.groupby(by=ITEM_COL).agg('quantity').sum().rename('total_quantity_value'), how='left',on=ITEM_COL)\n",
    "\n",
    "df_ranker_train = df_ranker_train.merge(df_join_train_matcher.groupby(by=ITEM_COL).agg('sales_value').median().rename('avg_item_sales_value'), how='left',on=ITEM_COL)\n",
    "\n",
    "df_ranker_train = df_ranker_train.merge(df_join_train_matcher.groupby(by=ITEM_COL).agg('quantity').median().rename('avg_quantity_value'), how='left',on=ITEM_COL)\n",
    "\n",
    "df_ranker_train = df_ranker_train.merge(df_join_train_matcher.groupby(by=USER_COL).agg('sales_value').median().rename('avg_user_sales_value'), how='left',on=USER_COL)\n",
    "\n",
    "df_ranker_train = df_ranker_train.merge(df_join_train_matcher.groupby(by=USER_COL).agg('quantity').median().rename('avg_quantity_value'), how='left',on=USER_COL)\n",
    "\n",
    "df_ranker_train = df_ranker_train.merge(df_join_train_matcher.groupby(by=ITEM_COL).agg('quantity').median().rename('avg_item_quantity_per_week')/df_join_train_matcher.week_no.nunique(), how='left',on=ITEM_COL)\n",
    "\n",
    "df_ranker_train = df_ranker_train.merge(df_join_train_matcher.groupby(by=USER_COL).agg('quantity').median().rename('avg_user_quantity_per_week')/df_join_train_matcher.week_no.nunique(), how='left',on=USER_COL)\n",
    "\n",
    "df_ranker_train = df_ranker_train.merge(df_join_train_matcher.groupby(by=USER_COL).agg('quantity').sum().rename('user_quantity_per_baskter')/df_join_train_matcher.basket_id.nunique(), how='left',on=USER_COL)\n",
    "\n",
    "df_ranker_train = df_ranker_train.merge(df_join_train_matcher.groupby(by=USER_COL).agg(USER_COL).count().rename('user_freq_per_basket')/df_join_train_matcher.basket_id.nunique(), how='left',on=USER_COL)\n",
    "\n",
    "df_ranker_train = df_ranker_train.merge(df_join_train_matcher.groupby(by=USER_COL).agg('sales_value').sum().rename('total_user_sales_value'), how='left',on=USER_COL)\n",
    "\n",
    "df_ranker_train = df_ranker_train.merge(df_join_train_matcher.groupby(by=ITEM_COL).agg(USER_COL).count().rename('item_freq'), how='left',on=ITEM_COL)\n",
    "\n",
    "df_ranker_train = df_ranker_train.merge(df_join_train_matcher.groupby(by=USER_COL).agg(USER_COL).count().rename('user_freq'), how='left',on=USER_COL)\n",
    "\n",
    "df_ranker_train = df_ranker_train.merge(df_join_train_matcher.groupby(by=ITEM_COL).agg('quantity').sum().rename('item_quantity_per_week')/df_join_train_matcher.week_no.nunique(), how='left',on=ITEM_COL)\n",
    "\n",
    "df_ranker_train = df_ranker_train.merge(df_join_train_matcher.groupby(by=USER_COL).agg('quantity').sum().rename('user_quantity_per_week')/df_join_train_matcher.week_no.nunique(), how='left',on=USER_COL)"
   ]
  },
  {
   "cell_type": "markdown",
   "metadata": {},
   "source": [
    "## Добавляем сгенерированные фичи в таблицы "
   ]
  },
  {
   "cell_type": "code",
   "execution_count": 50,
   "metadata": {},
   "outputs": [],
   "source": [
    "user_features = user_features.merge(user_atv, how='left', on='user_id', suffixes=(False, False))\n",
    "user_features = user_features.merge(user_freq, how='left', on='user_id', suffixes=(False, False))\n",
    "user_features = user_features.merge(user_sales_val, how='left', on='user_id', suffixes=(False, False))"
   ]
  },
  {
   "cell_type": "code",
   "execution_count": 51,
   "metadata": {},
   "outputs": [
    {
     "data": {
      "text/html": [
       "<div>\n",
       "<style scoped>\n",
       "    .dataframe tbody tr th:only-of-type {\n",
       "        vertical-align: middle;\n",
       "    }\n",
       "\n",
       "    .dataframe tbody tr th {\n",
       "        vertical-align: top;\n",
       "    }\n",
       "\n",
       "    .dataframe thead th {\n",
       "        text-align: right;\n",
       "    }\n",
       "</style>\n",
       "<table border=\"1\" class=\"dataframe\">\n",
       "  <thead>\n",
       "    <tr style=\"text-align: right;\">\n",
       "      <th></th>\n",
       "      <th>age_desc</th>\n",
       "      <th>marital_status_code</th>\n",
       "      <th>income_desc</th>\n",
       "      <th>homeowner_desc</th>\n",
       "      <th>hh_comp_desc</th>\n",
       "      <th>household_size_desc</th>\n",
       "      <th>kid_category_desc</th>\n",
       "      <th>user_id</th>\n",
       "      <th>user_atv</th>\n",
       "      <th>monthly_user_frequency</th>\n",
       "      <th>monthly_user_salesval</th>\n",
       "    </tr>\n",
       "  </thead>\n",
       "  <tbody>\n",
       "    <tr>\n",
       "      <th>0</th>\n",
       "      <td>65+</td>\n",
       "      <td>A</td>\n",
       "      <td>35-49K</td>\n",
       "      <td>Homeowner</td>\n",
       "      <td>2 Adults No Kids</td>\n",
       "      <td>2</td>\n",
       "      <td>None/Unknown</td>\n",
       "      <td>1</td>\n",
       "      <td>3.035</td>\n",
       "      <td>71.667</td>\n",
       "      <td>180.633</td>\n",
       "    </tr>\n",
       "    <tr>\n",
       "      <th>1</th>\n",
       "      <td>45-54</td>\n",
       "      <td>A</td>\n",
       "      <td>50-74K</td>\n",
       "      <td>Homeowner</td>\n",
       "      <td>2 Adults No Kids</td>\n",
       "      <td>2</td>\n",
       "      <td>None/Unknown</td>\n",
       "      <td>7</td>\n",
       "      <td>2.658</td>\n",
       "      <td>110.500</td>\n",
       "      <td>267.605</td>\n",
       "    </tr>\n",
       "    <tr>\n",
       "      <th>2</th>\n",
       "      <td>25-34</td>\n",
       "      <td>U</td>\n",
       "      <td>25-34K</td>\n",
       "      <td>Unknown</td>\n",
       "      <td>2 Adults Kids</td>\n",
       "      <td>3</td>\n",
       "      <td>1</td>\n",
       "      <td>8</td>\n",
       "      <td>2.689</td>\n",
       "      <td>98.333</td>\n",
       "      <td>242.660</td>\n",
       "    </tr>\n",
       "    <tr>\n",
       "      <th>3</th>\n",
       "      <td>25-34</td>\n",
       "      <td>U</td>\n",
       "      <td>75-99K</td>\n",
       "      <td>Homeowner</td>\n",
       "      <td>2 Adults Kids</td>\n",
       "      <td>4</td>\n",
       "      <td>2</td>\n",
       "      <td>13</td>\n",
       "      <td>18.274</td>\n",
       "      <td>104.667</td>\n",
       "      <td>623.673</td>\n",
       "    </tr>\n",
       "    <tr>\n",
       "      <th>4</th>\n",
       "      <td>45-54</td>\n",
       "      <td>B</td>\n",
       "      <td>50-74K</td>\n",
       "      <td>Homeowner</td>\n",
       "      <td>Single Female</td>\n",
       "      <td>1</td>\n",
       "      <td>None/Unknown</td>\n",
       "      <td>16</td>\n",
       "      <td>2.925</td>\n",
       "      <td>10.000</td>\n",
       "      <td>30.410</td>\n",
       "    </tr>\n",
       "  </tbody>\n",
       "</table>\n",
       "</div>"
      ],
      "text/plain": [
       "  age_desc marital_status_code income_desc homeowner_desc      hh_comp_desc  \\\n",
       "0      65+                   A      35-49K      Homeowner  2 Adults No Kids   \n",
       "1    45-54                   A      50-74K      Homeowner  2 Adults No Kids   \n",
       "2    25-34                   U      25-34K        Unknown     2 Adults Kids   \n",
       "3    25-34                   U      75-99K      Homeowner     2 Adults Kids   \n",
       "4    45-54                   B      50-74K      Homeowner     Single Female   \n",
       "\n",
       "  household_size_desc kid_category_desc  user_id  user_atv  \\\n",
       "0                   2      None/Unknown        1     3.035   \n",
       "1                   2      None/Unknown        7     2.658   \n",
       "2                   3                 1        8     2.689   \n",
       "3                   4                 2       13    18.274   \n",
       "4                   1      None/Unknown       16     2.925   \n",
       "\n",
       "   monthly_user_frequency  monthly_user_salesval  \n",
       "0                  71.667                180.633  \n",
       "1                 110.500                267.605  \n",
       "2                  98.333                242.660  \n",
       "3                 104.667                623.673  \n",
       "4                  10.000                 30.410  "
      ]
     },
     "execution_count": 51,
     "metadata": {},
     "output_type": "execute_result"
    }
   ],
   "source": [
    "user_features.head()"
   ]
  },
  {
   "cell_type": "code",
   "execution_count": 52,
   "metadata": {},
   "outputs": [],
   "source": [
    "item_features = item_features.merge(item_per_week, how='left', on='item_id', suffixes=(False, False))\n",
    "item_features = item_features.merge(category_freq, how='left', on='item_id', suffixes=(False, False))\n",
    "item_features = item_features.merge(freq_ratio_1, how='left', on='item_id', suffixes=(False, False))\n",
    "item_features = item_features.merge(price_diff, how='left', on='item_id', suffixes=(False, False))\n",
    "item_features = item_features.merge(item_freq_per_basket, how='left', on='item_id', suffixes=(False, False))\n",
    "item_features = item_features.merge(item_quantity_per_basket, how='left', on='item_id', suffixes=(False, False))"
   ]
  },
  {
   "cell_type": "code",
   "execution_count": 53,
   "metadata": {},
   "outputs": [
    {
     "data": {
      "text/html": [
       "<div>\n",
       "<style scoped>\n",
       "    .dataframe tbody tr th:only-of-type {\n",
       "        vertical-align: middle;\n",
       "    }\n",
       "\n",
       "    .dataframe tbody tr th {\n",
       "        vertical-align: top;\n",
       "    }\n",
       "\n",
       "    .dataframe thead th {\n",
       "        text-align: right;\n",
       "    }\n",
       "</style>\n",
       "<table border=\"1\" class=\"dataframe\">\n",
       "  <thead>\n",
       "    <tr style=\"text-align: right;\">\n",
       "      <th></th>\n",
       "      <th>item_id</th>\n",
       "      <th>manufacturer</th>\n",
       "      <th>department</th>\n",
       "      <th>brand</th>\n",
       "      <th>commodity_desc</th>\n",
       "      <th>sub_commodity_desc</th>\n",
       "      <th>curr_size_of_product</th>\n",
       "      <th>is_gasoline</th>\n",
       "      <th>item_per_week</th>\n",
       "      <th>category_freq</th>\n",
       "      <th>freq_ratio_1</th>\n",
       "      <th>price_diff</th>\n",
       "      <th>item_freq_per_basket</th>\n",
       "      <th>item_quantity_per_basket</th>\n",
       "    </tr>\n",
       "  </thead>\n",
       "  <tbody>\n",
       "    <tr>\n",
       "      <th>0</th>\n",
       "      <td>25671</td>\n",
       "      <td>2</td>\n",
       "      <td>GROCERY</td>\n",
       "      <td>National</td>\n",
       "      <td>FRZN ICE</td>\n",
       "      <td>ICE - CRUSHED/CUBED</td>\n",
       "      <td>22 LB</td>\n",
       "      <td>0</td>\n",
       "      <td>NaN</td>\n",
       "      <td>NaN</td>\n",
       "      <td>NaN</td>\n",
       "      <td>NaN</td>\n",
       "      <td>NaN</td>\n",
       "      <td>NaN</td>\n",
       "    </tr>\n",
       "    <tr>\n",
       "      <th>1</th>\n",
       "      <td>26081</td>\n",
       "      <td>2</td>\n",
       "      <td>MISC. TRANS.</td>\n",
       "      <td>National</td>\n",
       "      <td>NO COMMODITY DESCRIPTION</td>\n",
       "      <td>NO SUBCOMMODITY DESCRIPTION</td>\n",
       "      <td></td>\n",
       "      <td>0</td>\n",
       "      <td>NaN</td>\n",
       "      <td>NaN</td>\n",
       "      <td>NaN</td>\n",
       "      <td>NaN</td>\n",
       "      <td>NaN</td>\n",
       "      <td>NaN</td>\n",
       "    </tr>\n",
       "    <tr>\n",
       "      <th>2</th>\n",
       "      <td>26093</td>\n",
       "      <td>69</td>\n",
       "      <td>PASTRY</td>\n",
       "      <td>Private</td>\n",
       "      <td>BREAD</td>\n",
       "      <td>BREAD:ITALIAN/FRENCH</td>\n",
       "      <td></td>\n",
       "      <td>0</td>\n",
       "      <td>NaN</td>\n",
       "      <td>NaN</td>\n",
       "      <td>NaN</td>\n",
       "      <td>NaN</td>\n",
       "      <td>NaN</td>\n",
       "      <td>NaN</td>\n",
       "    </tr>\n",
       "    <tr>\n",
       "      <th>3</th>\n",
       "      <td>26190</td>\n",
       "      <td>69</td>\n",
       "      <td>GROCERY</td>\n",
       "      <td>Private</td>\n",
       "      <td>FRUIT - SHELF STABLE</td>\n",
       "      <td>APPLE SAUCE</td>\n",
       "      <td>50 OZ</td>\n",
       "      <td>0</td>\n",
       "      <td>NaN</td>\n",
       "      <td>NaN</td>\n",
       "      <td>NaN</td>\n",
       "      <td>NaN</td>\n",
       "      <td>NaN</td>\n",
       "      <td>NaN</td>\n",
       "    </tr>\n",
       "    <tr>\n",
       "      <th>4</th>\n",
       "      <td>26355</td>\n",
       "      <td>69</td>\n",
       "      <td>GROCERY</td>\n",
       "      <td>Private</td>\n",
       "      <td>COOKIES/CONES</td>\n",
       "      <td>SPECIALTY COOKIES</td>\n",
       "      <td>14 OZ</td>\n",
       "      <td>0</td>\n",
       "      <td>NaN</td>\n",
       "      <td>NaN</td>\n",
       "      <td>NaN</td>\n",
       "      <td>NaN</td>\n",
       "      <td>NaN</td>\n",
       "      <td>NaN</td>\n",
       "    </tr>\n",
       "  </tbody>\n",
       "</table>\n",
       "</div>"
      ],
      "text/plain": [
       "   item_id  manufacturer    department     brand            commodity_desc  \\\n",
       "0    25671             2       GROCERY  National                  FRZN ICE   \n",
       "1    26081             2  MISC. TRANS.  National  NO COMMODITY DESCRIPTION   \n",
       "2    26093            69        PASTRY   Private                     BREAD   \n",
       "3    26190            69       GROCERY   Private      FRUIT - SHELF STABLE   \n",
       "4    26355            69       GROCERY   Private             COOKIES/CONES   \n",
       "\n",
       "            sub_commodity_desc curr_size_of_product  is_gasoline  \\\n",
       "0          ICE - CRUSHED/CUBED                22 LB            0   \n",
       "1  NO SUBCOMMODITY DESCRIPTION                                 0   \n",
       "2         BREAD:ITALIAN/FRENCH                                 0   \n",
       "3                  APPLE SAUCE                50 OZ            0   \n",
       "4            SPECIALTY COOKIES                14 OZ            0   \n",
       "\n",
       "   item_per_week  category_freq  freq_ratio_1  price_diff  \\\n",
       "0            NaN            NaN           NaN         NaN   \n",
       "1            NaN            NaN           NaN         NaN   \n",
       "2            NaN            NaN           NaN         NaN   \n",
       "3            NaN            NaN           NaN         NaN   \n",
       "4            NaN            NaN           NaN         NaN   \n",
       "\n",
       "   item_freq_per_basket  item_quantity_per_basket  \n",
       "0                   NaN                       NaN  \n",
       "1                   NaN                       NaN  \n",
       "2                   NaN                       NaN  \n",
       "3                   NaN                       NaN  \n",
       "4                   NaN                       NaN  "
      ]
     },
     "execution_count": 53,
     "metadata": {},
     "output_type": "execute_result"
    }
   ],
   "source": [
    "# Некоторых товаров не было в транзакциях тренировочного датасета\n",
    "item_features[item_features['category_freq'].isna()].head()"
   ]
  },
  {
   "cell_type": "code",
   "execution_count": 54,
   "metadata": {},
   "outputs": [],
   "source": [
    "df_ranker_train = df_ranker_train.merge(item_features, on='item_id', how='left', suffixes=(False, False))\n",
    "df_ranker_train = df_ranker_train.merge(user_features, on='user_id', how='left', suffixes=(False, False))"
   ]
  },
  {
   "cell_type": "code",
   "execution_count": 55,
   "metadata": {},
   "outputs": [],
   "source": [
    "df_ranker_train = pd.merge(df_ranker_train, user_dep_ratio_2, on=['user_id', 'department'], how='left')\n",
    "df_ranker_train = pd.merge(df_ranker_train, user_dep_ratio_3, on=['user_id', 'department'], how='left')"
   ]
  },
  {
   "cell_type": "code",
   "execution_count": 56,
   "metadata": {},
   "outputs": [],
   "source": [
    "X_train = df_ranker_train.drop('target', axis=1)\n",
    "y_train = df_ranker_train[['target']]"
   ]
  },
  {
   "cell_type": "code",
   "execution_count": 57,
   "metadata": {
    "scrolled": true
   },
   "outputs": [
    {
     "data": {
      "text/plain": [
       "['total_item_sales_value',\n",
       " 'total_quantity_value',\n",
       " 'avg_item_sales_value',\n",
       " 'avg_quantity_value_x',\n",
       " 'avg_user_sales_value',\n",
       " 'avg_quantity_value_y',\n",
       " 'avg_item_quantity_per_week',\n",
       " 'avg_user_quantity_per_week',\n",
       " 'user_quantity_per_baskter',\n",
       " 'user_freq_per_basket',\n",
       " 'total_user_sales_value',\n",
       " 'item_freq',\n",
       " 'user_freq',\n",
       " 'item_quantity_per_week',\n",
       " 'user_quantity_per_week',\n",
       " 'manufacturer',\n",
       " 'department',\n",
       " 'brand',\n",
       " 'commodity_desc',\n",
       " 'sub_commodity_desc',\n",
       " 'curr_size_of_product',\n",
       " 'is_gasoline',\n",
       " 'item_per_week',\n",
       " 'category_freq',\n",
       " 'freq_ratio_1',\n",
       " 'price_diff',\n",
       " 'item_freq_per_basket',\n",
       " 'item_quantity_per_basket',\n",
       " 'age_desc',\n",
       " 'marital_status_code',\n",
       " 'income_desc',\n",
       " 'homeowner_desc',\n",
       " 'hh_comp_desc',\n",
       " 'household_size_desc',\n",
       " 'kid_category_desc',\n",
       " 'user_atv',\n",
       " 'monthly_user_frequency',\n",
       " 'monthly_user_salesval',\n",
       " 'freq_ratio_2',\n",
       " 'freq_ratio_3']"
      ]
     },
     "execution_count": 57,
     "metadata": {},
     "output_type": "execute_result"
    }
   ],
   "source": [
    "cat_feats = X_train.columns[2:].tolist()\n",
    "X_train[cat_feats] = X_train[cat_feats].astype('category')\n",
    "\n",
    "cat_feats"
   ]
  },
  {
   "cell_type": "markdown",
   "metadata": {},
   "source": [
    "## Обучение модели ранжирования"
   ]
  },
  {
   "cell_type": "code",
   "execution_count": 58,
   "metadata": {
    "scrolled": false
   },
   "outputs": [],
   "source": [
    "lgb = LGBMClassifier(objective='binary',\n",
    "                     max_depth=100,\n",
    "                     n_estimators=300,\n",
    "                     learning_rate=0.1,\n",
    "                     categorical_column=cat_feats)\n",
    "\n",
    "lgb.fit(X_train, y_train)\n",
    "\n",
    "train_preds = lgb.predict_proba(X_train)"
   ]
  },
  {
   "cell_type": "code",
   "execution_count": 59,
   "metadata": {},
   "outputs": [],
   "source": [
    "df_ranker_predict = df_ranker_train.copy()"
   ]
  },
  {
   "cell_type": "code",
   "execution_count": 60,
   "metadata": {},
   "outputs": [],
   "source": [
    "df_ranker_predict['proba_item_purchase'] = train_preds[:,1]"
   ]
  },
  {
   "cell_type": "code",
   "execution_count": 61,
   "metadata": {},
   "outputs": [],
   "source": [
    "def popularity_recommendation(data, item_features, n):\n",
    "    \"\"\"Топ-n популярных товаров из уникальной категории\"\"\"\n",
    "    \n",
    "    popular = data.groupby('item_id')['proba_item_purchase'].sum().reset_index()\n",
    "    popular = pd.merge(popular, item_features, left_on='item_id', right_on='item_id', suffixes=(False, False))\n",
    "    popular = popular.nlargest(15,'proba_item_purchase')\n",
    "    popular = popular.groupby('commodity_desc').max('proba_item_purchase')\n",
    "    \n",
    "    popular.sort_values('proba_item_purchase', ascending=False, inplace=True)\n",
    "    recs = popular.head(n).item_id\n",
    "    \n",
    "    return recs.tolist()"
   ]
  },
  {
   "cell_type": "code",
   "execution_count": 62,
   "metadata": {},
   "outputs": [
    {
     "data": {
      "text/plain": [
       "[1082185, 1106523, 5569230, 951590, 1004906]"
      ]
     },
     "execution_count": 62,
     "metadata": {},
     "output_type": "execute_result"
    }
   ],
   "source": [
    "popular_recs = popularity_recommendation(df_ranker_predict, item_features = item_features, n=5)\n",
    "popular_recs"
   ]
  },
  {
   "cell_type": "markdown",
   "metadata": {},
   "source": [
    "### Мы обучили модель ранжирования на покупках из сета data_train_ranker и на кандитатах от own_recommendations"
   ]
  },
  {
   "cell_type": "markdown",
   "metadata": {},
   "source": [
    "# Evaluation on test dataset"
   ]
  },
  {
   "cell_type": "code",
   "execution_count": 63,
   "metadata": {},
   "outputs": [
    {
     "data": {
      "text/html": [
       "<div>\n",
       "<style scoped>\n",
       "    .dataframe tbody tr th:only-of-type {\n",
       "        vertical-align: middle;\n",
       "    }\n",
       "\n",
       "    .dataframe tbody tr th {\n",
       "        vertical-align: top;\n",
       "    }\n",
       "\n",
       "    .dataframe thead th {\n",
       "        text-align: right;\n",
       "    }\n",
       "</style>\n",
       "<table border=\"1\" class=\"dataframe\">\n",
       "  <thead>\n",
       "    <tr style=\"text-align: right;\">\n",
       "      <th></th>\n",
       "      <th>user_id</th>\n",
       "      <th>actual</th>\n",
       "    </tr>\n",
       "  </thead>\n",
       "  <tbody>\n",
       "    <tr>\n",
       "      <th>0</th>\n",
       "      <td>1</td>\n",
       "      <td>[880007, 883616, 931136, 938004, 940947, 94726...</td>\n",
       "    </tr>\n",
       "    <tr>\n",
       "      <th>1</th>\n",
       "      <td>2</td>\n",
       "      <td>[820165, 820291, 826784, 826835, 829009, 85784...</td>\n",
       "    </tr>\n",
       "  </tbody>\n",
       "</table>\n",
       "</div>"
      ],
      "text/plain": [
       "   user_id                                             actual\n",
       "0        1  [880007, 883616, 931136, 938004, 940947, 94726...\n",
       "1        2  [820165, 820291, 826784, 826835, 829009, 85784..."
      ]
     },
     "execution_count": 63,
     "metadata": {},
     "output_type": "execute_result"
    }
   ],
   "source": [
    "# Преобразуем тестовый датасет в нужный формат\n",
    "result_eval_ranker = data_val_ranker.groupby(USER_COL)[ITEM_COL].unique().reset_index()\n",
    "result_eval_ranker.columns=[USER_COL, ACTUAL_COL]\n",
    "result_eval_ranker.head(2)"
   ]
  },
  {
   "cell_type": "markdown",
   "metadata": {},
   "source": [
    "## Eval re-ranked matched result on test dataset  "
   ]
  },
  {
   "cell_type": "code",
   "execution_count": 64,
   "metadata": {},
   "outputs": [],
   "source": [
    "def rerank(user_id, N):\n",
    "    return df_ranker_predict[df_ranker_predict[USER_COL]==user_id].sort_values('proba_item_purchase', ascending=False).head(N).item_id.tolist()"
   ]
  },
  {
   "cell_type": "code",
   "execution_count": 65,
   "metadata": {},
   "outputs": [
    {
     "name": "stdout",
     "output_type": "stream",
     "text": [
      "('reranked_own_rec', 0.24485070079219992)\n"
     ]
    }
   ],
   "source": [
    "# precision вырос в двухуровневой модели по сравнению с одноуровневым own_recommend \n",
    "result_eval_ranker['reranked_own_rec'] = result_eval_ranker[USER_COL].apply(lambda user_id: rerank(user_id, 5))\n",
    "print(*sorted(calc_precision(result_eval_ranker, TOPK_PRECISION), key=lambda x: x[1], reverse=True), sep='\\n')"
   ]
  },
  {
   "cell_type": "code",
   "execution_count": 66,
   "metadata": {},
   "outputs": [
    {
     "data": {
      "text/html": [
       "<div>\n",
       "<style scoped>\n",
       "    .dataframe tbody tr th:only-of-type {\n",
       "        vertical-align: middle;\n",
       "    }\n",
       "\n",
       "    .dataframe tbody tr th {\n",
       "        vertical-align: top;\n",
       "    }\n",
       "\n",
       "    .dataframe thead th {\n",
       "        text-align: right;\n",
       "    }\n",
       "</style>\n",
       "<table border=\"1\" class=\"dataframe\">\n",
       "  <thead>\n",
       "    <tr style=\"text-align: right;\">\n",
       "      <th></th>\n",
       "      <th>user_id</th>\n",
       "      <th>actual</th>\n",
       "      <th>reranked_own_rec</th>\n",
       "    </tr>\n",
       "  </thead>\n",
       "  <tbody>\n",
       "    <tr>\n",
       "      <th>0</th>\n",
       "      <td>1</td>\n",
       "      <td>[880007, 883616, 931136, 938004, 940947, 94726...</td>\n",
       "      <td>[1082185, 856942, 8293439, 940947, 1132771]</td>\n",
       "    </tr>\n",
       "    <tr>\n",
       "      <th>1</th>\n",
       "      <td>2</td>\n",
       "      <td>[820165, 820291, 826784, 826835, 829009, 85784...</td>\n",
       "      <td>[]</td>\n",
       "    </tr>\n",
       "    <tr>\n",
       "      <th>2</th>\n",
       "      <td>6</td>\n",
       "      <td>[956902, 960791, 1037863, 1119051, 1137688, 84...</td>\n",
       "      <td>[1082185, 845208, 1024306, 5569230, 1004906]</td>\n",
       "    </tr>\n",
       "  </tbody>\n",
       "</table>\n",
       "</div>"
      ],
      "text/plain": [
       "   user_id                                             actual  \\\n",
       "0        1  [880007, 883616, 931136, 938004, 940947, 94726...   \n",
       "1        2  [820165, 820291, 826784, 826835, 829009, 85784...   \n",
       "2        6  [956902, 960791, 1037863, 1119051, 1137688, 84...   \n",
       "\n",
       "                               reranked_own_rec  \n",
       "0   [1082185, 856942, 8293439, 940947, 1132771]  \n",
       "1                                            []  \n",
       "2  [1082185, 845208, 1024306, 5569230, 1004906]  "
      ]
     },
     "execution_count": 66,
     "metadata": {},
     "output_type": "execute_result"
    }
   ],
   "source": [
    "result_eval_ranker.head(3)"
   ]
  },
  {
   "cell_type": "markdown",
   "metadata": {},
   "source": [
    "# Оценка на тестовом датасете "
   ]
  },
  {
   "cell_type": "code",
   "execution_count": 67,
   "metadata": {},
   "outputs": [],
   "source": [
    "# тестовый датасет\n",
    "df_test = pd.read_csv('retail_test1.csv')"
   ]
  },
  {
   "cell_type": "code",
   "execution_count": 68,
   "metadata": {},
   "outputs": [
    {
     "data": {
      "text/html": [
       "<div>\n",
       "<style scoped>\n",
       "    .dataframe tbody tr th:only-of-type {\n",
       "        vertical-align: middle;\n",
       "    }\n",
       "\n",
       "    .dataframe tbody tr th {\n",
       "        vertical-align: top;\n",
       "    }\n",
       "\n",
       "    .dataframe thead th {\n",
       "        text-align: right;\n",
       "    }\n",
       "</style>\n",
       "<table border=\"1\" class=\"dataframe\">\n",
       "  <thead>\n",
       "    <tr style=\"text-align: right;\">\n",
       "      <th></th>\n",
       "      <th>user_id</th>\n",
       "      <th>actual</th>\n",
       "    </tr>\n",
       "  </thead>\n",
       "  <tbody>\n",
       "    <tr>\n",
       "      <th>0</th>\n",
       "      <td>1</td>\n",
       "      <td>[880007, 883616, 931136, 938004, 940947, 94726...</td>\n",
       "    </tr>\n",
       "    <tr>\n",
       "      <th>1</th>\n",
       "      <td>2</td>\n",
       "      <td>[820165, 820291, 826784, 826835, 829009, 85784...</td>\n",
       "    </tr>\n",
       "  </tbody>\n",
       "</table>\n",
       "</div>"
      ],
      "text/plain": [
       "   user_id                                             actual\n",
       "0        1  [880007, 883616, 931136, 938004, 940947, 94726...\n",
       "1        2  [820165, 820291, 826784, 826835, 829009, 85784..."
      ]
     },
     "execution_count": 68,
     "metadata": {},
     "output_type": "execute_result"
    }
   ],
   "source": [
    "result_test = df_test.groupby(USER_COL)[ITEM_COL].unique().reset_index()\n",
    "result_test.columns=[USER_COL, ACTUAL_COL]\n",
    "result_test.head(2)"
   ]
  },
  {
   "cell_type": "code",
   "execution_count": 69,
   "metadata": {},
   "outputs": [
    {
     "data": {
      "text/plain": [
       "(1885, 2)"
      ]
     },
     "execution_count": 69,
     "metadata": {},
     "output_type": "execute_result"
    }
   ],
   "source": [
    "result_test.shape"
   ]
  },
  {
   "cell_type": "code",
   "execution_count": 70,
   "metadata": {},
   "outputs": [
    {
     "data": {
      "text/plain": [
       "(1748, 2)"
      ]
     },
     "execution_count": 70,
     "metadata": {},
     "output_type": "execute_result"
    }
   ],
   "source": [
    "# Покупатели, которые были в тренировочных датасетах\n",
    "warm_start = result_test[result_test.user_id.isin(common_users)]\n",
    "warm_start.shape"
   ]
  },
  {
   "cell_type": "code",
   "execution_count": 71,
   "metadata": {},
   "outputs": [
    {
     "data": {
      "text/plain": [
       "(137, 2)"
      ]
     },
     "execution_count": 71,
     "metadata": {},
     "output_type": "execute_result"
    }
   ],
   "source": [
    "# Пользователям, которых не было в тренировочных датасетах, далее предложим popular recommended товары\n",
    "cold_start = result_test[~result_test.user_id.isin(common_users)]\n",
    "cold_start.shape"
   ]
  },
  {
   "cell_type": "code",
   "execution_count": 72,
   "metadata": {},
   "outputs": [],
   "source": [
    "warm_start['own_rec'] = warm_start[USER_COL].apply(lambda x: recommender.get_own_recommendations(x, N=N_PREDICT))"
   ]
  },
  {
   "cell_type": "code",
   "execution_count": 73,
   "metadata": {},
   "outputs": [
    {
     "name": "stdout",
     "output_type": "stream",
     "text": [
      "('reranked_own_rec', 0.24485070079219992)\n",
      "('own_rec', 0.15663615560640734)\n"
     ]
    }
   ],
   "source": [
    "# precision@5 в двухуровневой модели значительно выше, целевое значение достигнуто\n",
    "\n",
    "warm_start['reranked_own_rec'] = warm_start[USER_COL].apply(lambda user_id: rerank(user_id, 5))\n",
    "print(*sorted(calc_precision(warm_start, TOPK_PRECISION), key=lambda x: x[1], reverse=True), sep='\\n')"
   ]
  },
  {
   "cell_type": "code",
   "execution_count": 74,
   "metadata": {},
   "outputs": [
    {
     "data": {
      "text/plain": [
       "107"
      ]
     },
     "execution_count": 74,
     "metadata": {},
     "output_type": "execute_result"
    }
   ],
   "source": [
    "# Пользователи, по которым не было истории для предикта модели второго уровня (ранжирования)\n",
    "result_nan = warm_start.loc[warm_start[\"reranked_own_rec\"].str.len() == 0]\n",
    "user_list = result_nan['user_id'].unique()\n",
    "len(user_list)"
   ]
  },
  {
   "cell_type": "code",
   "execution_count": 75,
   "metadata": {},
   "outputs": [
    {
     "data": {
      "text/html": [
       "<div>\n",
       "<style scoped>\n",
       "    .dataframe tbody tr th:only-of-type {\n",
       "        vertical-align: middle;\n",
       "    }\n",
       "\n",
       "    .dataframe tbody tr th {\n",
       "        vertical-align: top;\n",
       "    }\n",
       "\n",
       "    .dataframe thead th {\n",
       "        text-align: right;\n",
       "    }\n",
       "</style>\n",
       "<table border=\"1\" class=\"dataframe\">\n",
       "  <thead>\n",
       "    <tr style=\"text-align: right;\">\n",
       "      <th></th>\n",
       "      <th>user_id</th>\n",
       "      <th>actual</th>\n",
       "      <th>own_rec</th>\n",
       "      <th>reranked_own_rec</th>\n",
       "    </tr>\n",
       "  </thead>\n",
       "  <tbody>\n",
       "    <tr>\n",
       "      <th>0</th>\n",
       "      <td>1</td>\n",
       "      <td>[880007, 883616, 931136, 938004, 940947, 94726...</td>\n",
       "      <td>[8293439, 856942, 9655212, 922281, 940947, 109...</td>\n",
       "      <td>[1082185, 856942, 8293439, 940947, 1132771]</td>\n",
       "    </tr>\n",
       "    <tr>\n",
       "      <th>1</th>\n",
       "      <td>2</td>\n",
       "      <td>[820165, 820291, 826784, 826835, 829009, 85784...</td>\n",
       "      <td>[6633224, 839656, 1139142, 1011457, 1030981, 8...</td>\n",
       "      <td>[1082185, 1106523, 5569230, 951590, 1004906]</td>\n",
       "    </tr>\n",
       "    <tr>\n",
       "      <th>3</th>\n",
       "      <td>6</td>\n",
       "      <td>[956902, 960791, 1037863, 1119051, 1137688, 84...</td>\n",
       "      <td>[1024306, 12757544, 6548453, 983096, 850102, 8...</td>\n",
       "      <td>[1082185, 845208, 1024306, 5569230, 1004906]</td>\n",
       "    </tr>\n",
       "    <tr>\n",
       "      <th>4</th>\n",
       "      <td>7</td>\n",
       "      <td>[847270, 855557, 859987, 863407, 895454, 90663...</td>\n",
       "      <td>[991223, 5572738, 1023196, 9836752, 993638, 10...</td>\n",
       "      <td>[1082185, 5568378, 5592610, 1122358, 986912]</td>\n",
       "    </tr>\n",
       "    <tr>\n",
       "      <th>5</th>\n",
       "      <td>8</td>\n",
       "      <td>[846334, 850834, 857503, 862139, 865891, 87829...</td>\n",
       "      <td>[1042544, 1013389, 914318, 1121694, 866355, 94...</td>\n",
       "      <td>[1082185, 1029743, 854405, 872137, 839243]</td>\n",
       "    </tr>\n",
       "  </tbody>\n",
       "</table>\n",
       "</div>"
      ],
      "text/plain": [
       "   user_id                                             actual  \\\n",
       "0        1  [880007, 883616, 931136, 938004, 940947, 94726...   \n",
       "1        2  [820165, 820291, 826784, 826835, 829009, 85784...   \n",
       "3        6  [956902, 960791, 1037863, 1119051, 1137688, 84...   \n",
       "4        7  [847270, 855557, 859987, 863407, 895454, 90663...   \n",
       "5        8  [846334, 850834, 857503, 862139, 865891, 87829...   \n",
       "\n",
       "                                             own_rec  \\\n",
       "0  [8293439, 856942, 9655212, 922281, 940947, 109...   \n",
       "1  [6633224, 839656, 1139142, 1011457, 1030981, 8...   \n",
       "3  [1024306, 12757544, 6548453, 983096, 850102, 8...   \n",
       "4  [991223, 5572738, 1023196, 9836752, 993638, 10...   \n",
       "5  [1042544, 1013389, 914318, 1121694, 866355, 94...   \n",
       "\n",
       "                               reranked_own_rec  \n",
       "0   [1082185, 856942, 8293439, 940947, 1132771]  \n",
       "1  [1082185, 1106523, 5569230, 951590, 1004906]  \n",
       "3  [1082185, 845208, 1024306, 5569230, 1004906]  \n",
       "4  [1082185, 5568378, 5592610, 1122358, 986912]  \n",
       "5    [1082185, 1029743, 854405, 872137, 839243]  "
      ]
     },
     "execution_count": 75,
     "metadata": {},
     "output_type": "execute_result"
    }
   ],
   "source": [
    "# Им можно рекоммендовать товары из popular_recs\n",
    "warm_start.loc[warm_start[\"user_id\"].isin(user_list), \"reranked_own_rec\"] =\\\n",
    "warm_start.loc[warm_start[\"user_id\"].isin(user_list), \"user_id\"].apply(lambda x: popular_recs)\n",
    "warm_start.head()"
   ]
  },
  {
   "cell_type": "code",
   "execution_count": 76,
   "metadata": {},
   "outputs": [
    {
     "name": "stdout",
     "output_type": "stream",
     "text": [
      "('reranked_own_rec', 0.2344393592677346)\n",
      "('own_rec', 0.15663615560640734)\n"
     ]
    }
   ],
   "source": [
    "print(*sorted(calc_precision(warm_start, TOPK_PRECISION), key=lambda x: x[1], reverse=True), sep='\\n')"
   ]
  },
  {
   "cell_type": "code",
   "execution_count": 77,
   "metadata": {},
   "outputs": [
    {
     "data": {
      "text/html": [
       "<div>\n",
       "<style scoped>\n",
       "    .dataframe tbody tr th:only-of-type {\n",
       "        vertical-align: middle;\n",
       "    }\n",
       "\n",
       "    .dataframe tbody tr th {\n",
       "        vertical-align: top;\n",
       "    }\n",
       "\n",
       "    .dataframe thead th {\n",
       "        text-align: right;\n",
       "    }\n",
       "</style>\n",
       "<table border=\"1\" class=\"dataframe\">\n",
       "  <thead>\n",
       "    <tr style=\"text-align: right;\">\n",
       "      <th></th>\n",
       "      <th>user_id</th>\n",
       "      <th>actual</th>\n",
       "      <th>own_rec</th>\n",
       "      <th>reranked_own_rec</th>\n",
       "    </tr>\n",
       "  </thead>\n",
       "  <tbody>\n",
       "    <tr>\n",
       "      <th>0</th>\n",
       "      <td>1</td>\n",
       "      <td>[880007, 883616, 931136, 938004, 940947, 94726...</td>\n",
       "      <td>[8293439, 856942, 9655212, 922281, 940947, 109...</td>\n",
       "      <td>[1082185, 856942, 8293439, 940947, 1132771]</td>\n",
       "    </tr>\n",
       "    <tr>\n",
       "      <th>1</th>\n",
       "      <td>2</td>\n",
       "      <td>[820165, 820291, 826784, 826835, 829009, 85784...</td>\n",
       "      <td>[6633224, 839656, 1139142, 1011457, 1030981, 8...</td>\n",
       "      <td>[6633224, 839656, 1139142, 1011457, 1030981]</td>\n",
       "    </tr>\n",
       "    <tr>\n",
       "      <th>3</th>\n",
       "      <td>6</td>\n",
       "      <td>[956902, 960791, 1037863, 1119051, 1137688, 84...</td>\n",
       "      <td>[1024306, 12757544, 6548453, 983096, 850102, 8...</td>\n",
       "      <td>[1082185, 845208, 1024306, 5569230, 1004906]</td>\n",
       "    </tr>\n",
       "    <tr>\n",
       "      <th>4</th>\n",
       "      <td>7</td>\n",
       "      <td>[847270, 855557, 859987, 863407, 895454, 90663...</td>\n",
       "      <td>[991223, 5572738, 1023196, 9836752, 993638, 10...</td>\n",
       "      <td>[1082185, 5568378, 5592610, 1122358, 986912]</td>\n",
       "    </tr>\n",
       "    <tr>\n",
       "      <th>5</th>\n",
       "      <td>8</td>\n",
       "      <td>[846334, 850834, 857503, 862139, 865891, 87829...</td>\n",
       "      <td>[1042544, 1013389, 914318, 1121694, 866355, 94...</td>\n",
       "      <td>[1082185, 1029743, 854405, 872137, 839243]</td>\n",
       "    </tr>\n",
       "  </tbody>\n",
       "</table>\n",
       "</div>"
      ],
      "text/plain": [
       "   user_id                                             actual  \\\n",
       "0        1  [880007, 883616, 931136, 938004, 940947, 94726...   \n",
       "1        2  [820165, 820291, 826784, 826835, 829009, 85784...   \n",
       "3        6  [956902, 960791, 1037863, 1119051, 1137688, 84...   \n",
       "4        7  [847270, 855557, 859987, 863407, 895454, 90663...   \n",
       "5        8  [846334, 850834, 857503, 862139, 865891, 87829...   \n",
       "\n",
       "                                             own_rec  \\\n",
       "0  [8293439, 856942, 9655212, 922281, 940947, 109...   \n",
       "1  [6633224, 839656, 1139142, 1011457, 1030981, 8...   \n",
       "3  [1024306, 12757544, 6548453, 983096, 850102, 8...   \n",
       "4  [991223, 5572738, 1023196, 9836752, 993638, 10...   \n",
       "5  [1042544, 1013389, 914318, 1121694, 866355, 94...   \n",
       "\n",
       "                               reranked_own_rec  \n",
       "0   [1082185, 856942, 8293439, 940947, 1132771]  \n",
       "1  [6633224, 839656, 1139142, 1011457, 1030981]  \n",
       "3  [1082185, 845208, 1024306, 5569230, 1004906]  \n",
       "4  [1082185, 5568378, 5592610, 1122358, 986912]  \n",
       "5    [1082185, 1029743, 854405, 872137, 839243]  "
      ]
     },
     "execution_count": 77,
     "metadata": {},
     "output_type": "execute_result"
    }
   ],
   "source": [
    "# Или можно рекоммендовать товары из own_recommender\n",
    "warm_start.loc[warm_start[\"user_id\"].isin(user_list), \"reranked_own_rec\"] =\\\n",
    "warm_start.loc[warm_start[\"user_id\"].isin(user_list), \"user_id\"].apply(lambda x: recommender.get_own_recommendations(x, N=5))\n",
    "warm_start.head()"
   ]
  },
  {
   "cell_type": "code",
   "execution_count": 78,
   "metadata": {},
   "outputs": [
    {
     "name": "stdout",
     "output_type": "stream",
     "text": [
      "('reranked_own_rec', 0.23489702517162472)\n",
      "('own_rec', 0.15663615560640734)\n"
     ]
    }
   ],
   "source": [
    "# C own recommender получаем чуть более высокий precision \n",
    "print(*sorted(calc_precision(warm_start, TOPK_PRECISION), key=lambda x: x[1], reverse=True), sep='\\n')"
   ]
  },
  {
   "cell_type": "code",
   "execution_count": 79,
   "metadata": {},
   "outputs": [
    {
     "data": {
      "text/html": [
       "<div>\n",
       "<style scoped>\n",
       "    .dataframe tbody tr th:only-of-type {\n",
       "        vertical-align: middle;\n",
       "    }\n",
       "\n",
       "    .dataframe tbody tr th {\n",
       "        vertical-align: top;\n",
       "    }\n",
       "\n",
       "    .dataframe thead th {\n",
       "        text-align: right;\n",
       "    }\n",
       "</style>\n",
       "<table border=\"1\" class=\"dataframe\">\n",
       "  <thead>\n",
       "    <tr style=\"text-align: right;\">\n",
       "      <th></th>\n",
       "      <th>user_id</th>\n",
       "      <th>actual</th>\n",
       "      <th>own_rec</th>\n",
       "      <th>reranked_own_rec</th>\n",
       "    </tr>\n",
       "  </thead>\n",
       "  <tbody>\n",
       "    <tr>\n",
       "      <th>2</th>\n",
       "      <td>3</td>\n",
       "      <td>[827683, 908531, 989069, 1071377, 1080155, 109...</td>\n",
       "      <td>[1082185, 1106523, 5569230, 951590, 1004906]</td>\n",
       "      <td>[1082185, 1106523, 5569230, 951590, 1004906]</td>\n",
       "    </tr>\n",
       "    <tr>\n",
       "      <th>7</th>\n",
       "      <td>10</td>\n",
       "      <td>[871162, 962118, 986912, 1043766, 1068504, 110...</td>\n",
       "      <td>[1082185, 1106523, 5569230, 951590, 1004906]</td>\n",
       "      <td>[1082185, 1106523, 5569230, 951590, 1004906]</td>\n",
       "    </tr>\n",
       "    <tr>\n",
       "      <th>36</th>\n",
       "      <td>43</td>\n",
       "      <td>[821787, 1029174, 1095068, 873178, 838319, 925...</td>\n",
       "      <td>[1082185, 1106523, 5569230, 951590, 1004906]</td>\n",
       "      <td>[1082185, 1106523, 5569230, 951590, 1004906]</td>\n",
       "    </tr>\n",
       "    <tr>\n",
       "      <th>40</th>\n",
       "      <td>50</td>\n",
       "      <td>[833245, 835058, 838602, 865992, 874736, 89984...</td>\n",
       "      <td>[1082185, 1106523, 5569230, 951590, 1004906]</td>\n",
       "      <td>[1082185, 1106523, 5569230, 951590, 1004906]</td>\n",
       "    </tr>\n",
       "    <tr>\n",
       "      <th>56</th>\n",
       "      <td>70</td>\n",
       "      <td>[1039156]</td>\n",
       "      <td>[1082185, 1106523, 5569230, 951590, 1004906]</td>\n",
       "      <td>[1082185, 1106523, 5569230, 951590, 1004906]</td>\n",
       "    </tr>\n",
       "    <tr>\n",
       "      <th>...</th>\n",
       "      <td>...</td>\n",
       "      <td>...</td>\n",
       "      <td>...</td>\n",
       "      <td>...</td>\n",
       "    </tr>\n",
       "    <tr>\n",
       "      <th>1791</th>\n",
       "      <td>2368</td>\n",
       "      <td>[838210, 843346, 845992, 857540, 868745, 87822...</td>\n",
       "      <td>[1082185, 1106523, 5569230, 951590, 1004906]</td>\n",
       "      <td>[1082185, 1106523, 5569230, 951590, 1004906]</td>\n",
       "    </tr>\n",
       "    <tr>\n",
       "      <th>1795</th>\n",
       "      <td>2373</td>\n",
       "      <td>[838602, 1029743, 1109598]</td>\n",
       "      <td>[1082185, 1106523, 5569230, 951590, 1004906]</td>\n",
       "      <td>[1082185, 1106523, 5569230, 951590, 1004906]</td>\n",
       "    </tr>\n",
       "    <tr>\n",
       "      <th>1814</th>\n",
       "      <td>2399</td>\n",
       "      <td>[974156, 986912]</td>\n",
       "      <td>[1082185, 1106523, 5569230, 951590, 1004906]</td>\n",
       "      <td>[1082185, 1106523, 5569230, 951590, 1004906]</td>\n",
       "    </tr>\n",
       "    <tr>\n",
       "      <th>1829</th>\n",
       "      <td>2425</td>\n",
       "      <td>[836181, 929751, 994272, 995242, 999104, 10288...</td>\n",
       "      <td>[1082185, 1106523, 5569230, 951590, 1004906]</td>\n",
       "      <td>[1082185, 1106523, 5569230, 951590, 1004906]</td>\n",
       "    </tr>\n",
       "    <tr>\n",
       "      <th>1838</th>\n",
       "      <td>2439</td>\n",
       "      <td>[1082185, 1123321, 983016]</td>\n",
       "      <td>[1082185, 1106523, 5569230, 951590, 1004906]</td>\n",
       "      <td>[1082185, 1106523, 5569230, 951590, 1004906]</td>\n",
       "    </tr>\n",
       "  </tbody>\n",
       "</table>\n",
       "<p>137 rows × 4 columns</p>\n",
       "</div>"
      ],
      "text/plain": [
       "      user_id                                             actual  \\\n",
       "2           3  [827683, 908531, 989069, 1071377, 1080155, 109...   \n",
       "7          10  [871162, 962118, 986912, 1043766, 1068504, 110...   \n",
       "36         43  [821787, 1029174, 1095068, 873178, 838319, 925...   \n",
       "40         50  [833245, 835058, 838602, 865992, 874736, 89984...   \n",
       "56         70                                          [1039156]   \n",
       "...       ...                                                ...   \n",
       "1791     2368  [838210, 843346, 845992, 857540, 868745, 87822...   \n",
       "1795     2373                         [838602, 1029743, 1109598]   \n",
       "1814     2399                                   [974156, 986912]   \n",
       "1829     2425  [836181, 929751, 994272, 995242, 999104, 10288...   \n",
       "1838     2439                         [1082185, 1123321, 983016]   \n",
       "\n",
       "                                           own_rec  \\\n",
       "2     [1082185, 1106523, 5569230, 951590, 1004906]   \n",
       "7     [1082185, 1106523, 5569230, 951590, 1004906]   \n",
       "36    [1082185, 1106523, 5569230, 951590, 1004906]   \n",
       "40    [1082185, 1106523, 5569230, 951590, 1004906]   \n",
       "56    [1082185, 1106523, 5569230, 951590, 1004906]   \n",
       "...                                            ...   \n",
       "1791  [1082185, 1106523, 5569230, 951590, 1004906]   \n",
       "1795  [1082185, 1106523, 5569230, 951590, 1004906]   \n",
       "1814  [1082185, 1106523, 5569230, 951590, 1004906]   \n",
       "1829  [1082185, 1106523, 5569230, 951590, 1004906]   \n",
       "1838  [1082185, 1106523, 5569230, 951590, 1004906]   \n",
       "\n",
       "                                  reranked_own_rec  \n",
       "2     [1082185, 1106523, 5569230, 951590, 1004906]  \n",
       "7     [1082185, 1106523, 5569230, 951590, 1004906]  \n",
       "36    [1082185, 1106523, 5569230, 951590, 1004906]  \n",
       "40    [1082185, 1106523, 5569230, 951590, 1004906]  \n",
       "56    [1082185, 1106523, 5569230, 951590, 1004906]  \n",
       "...                                            ...  \n",
       "1791  [1082185, 1106523, 5569230, 951590, 1004906]  \n",
       "1795  [1082185, 1106523, 5569230, 951590, 1004906]  \n",
       "1814  [1082185, 1106523, 5569230, 951590, 1004906]  \n",
       "1829  [1082185, 1106523, 5569230, 951590, 1004906]  \n",
       "1838  [1082185, 1106523, 5569230, 951590, 1004906]  \n",
       "\n",
       "[137 rows x 4 columns]"
      ]
     },
     "execution_count": 79,
     "metadata": {},
     "output_type": "execute_result"
    }
   ],
   "source": [
    "# Остальным покупателям рекомендуем популярные товары \n",
    "cold_start['own_rec'] = cold_start.apply(lambda row: popular_recs, axis = 1)\n",
    "cold_start['reranked_own_rec'] = cold_start.apply(lambda row: popular_recs, axis = 1)\n",
    "cold_start"
   ]
  },
  {
   "cell_type": "code",
   "execution_count": 80,
   "metadata": {},
   "outputs": [
    {
     "data": {
      "text/html": [
       "<div>\n",
       "<style scoped>\n",
       "    .dataframe tbody tr th:only-of-type {\n",
       "        vertical-align: middle;\n",
       "    }\n",
       "\n",
       "    .dataframe tbody tr th {\n",
       "        vertical-align: top;\n",
       "    }\n",
       "\n",
       "    .dataframe thead th {\n",
       "        text-align: right;\n",
       "    }\n",
       "</style>\n",
       "<table border=\"1\" class=\"dataframe\">\n",
       "  <thead>\n",
       "    <tr style=\"text-align: right;\">\n",
       "      <th></th>\n",
       "      <th>user_id</th>\n",
       "      <th>actual</th>\n",
       "      <th>own_rec</th>\n",
       "      <th>reranked_own_rec</th>\n",
       "    </tr>\n",
       "  </thead>\n",
       "  <tbody>\n",
       "    <tr>\n",
       "      <th>0</th>\n",
       "      <td>1</td>\n",
       "      <td>[880007, 883616, 931136, 938004, 940947, 94726...</td>\n",
       "      <td>[8293439, 856942, 9655212, 922281, 940947, 109...</td>\n",
       "      <td>[1082185, 856942, 8293439, 940947, 1132771]</td>\n",
       "    </tr>\n",
       "    <tr>\n",
       "      <th>1</th>\n",
       "      <td>2</td>\n",
       "      <td>[820165, 820291, 826784, 826835, 829009, 85784...</td>\n",
       "      <td>[6633224, 839656, 1139142, 1011457, 1030981, 8...</td>\n",
       "      <td>[6633224, 839656, 1139142, 1011457, 1030981]</td>\n",
       "    </tr>\n",
       "    <tr>\n",
       "      <th>3</th>\n",
       "      <td>6</td>\n",
       "      <td>[956902, 960791, 1037863, 1119051, 1137688, 84...</td>\n",
       "      <td>[1024306, 12757544, 6548453, 983096, 850102, 8...</td>\n",
       "      <td>[1082185, 845208, 1024306, 5569230, 1004906]</td>\n",
       "    </tr>\n",
       "    <tr>\n",
       "      <th>4</th>\n",
       "      <td>7</td>\n",
       "      <td>[847270, 855557, 859987, 863407, 895454, 90663...</td>\n",
       "      <td>[991223, 5572738, 1023196, 9836752, 993638, 10...</td>\n",
       "      <td>[1082185, 5568378, 5592610, 1122358, 986912]</td>\n",
       "    </tr>\n",
       "    <tr>\n",
       "      <th>5</th>\n",
       "      <td>8</td>\n",
       "      <td>[846334, 850834, 857503, 862139, 865891, 87829...</td>\n",
       "      <td>[1042544, 1013389, 914318, 1121694, 866355, 94...</td>\n",
       "      <td>[1082185, 1029743, 854405, 872137, 839243]</td>\n",
       "    </tr>\n",
       "    <tr>\n",
       "      <th>...</th>\n",
       "      <td>...</td>\n",
       "      <td>...</td>\n",
       "      <td>...</td>\n",
       "      <td>...</td>\n",
       "    </tr>\n",
       "    <tr>\n",
       "      <th>1791</th>\n",
       "      <td>2368</td>\n",
       "      <td>[838210, 843346, 845992, 857540, 868745, 87822...</td>\n",
       "      <td>[1082185, 1106523, 5569230, 951590, 1004906]</td>\n",
       "      <td>[1082185, 1106523, 5569230, 951590, 1004906]</td>\n",
       "    </tr>\n",
       "    <tr>\n",
       "      <th>1795</th>\n",
       "      <td>2373</td>\n",
       "      <td>[838602, 1029743, 1109598]</td>\n",
       "      <td>[1082185, 1106523, 5569230, 951590, 1004906]</td>\n",
       "      <td>[1082185, 1106523, 5569230, 951590, 1004906]</td>\n",
       "    </tr>\n",
       "    <tr>\n",
       "      <th>1814</th>\n",
       "      <td>2399</td>\n",
       "      <td>[974156, 986912]</td>\n",
       "      <td>[1082185, 1106523, 5569230, 951590, 1004906]</td>\n",
       "      <td>[1082185, 1106523, 5569230, 951590, 1004906]</td>\n",
       "    </tr>\n",
       "    <tr>\n",
       "      <th>1829</th>\n",
       "      <td>2425</td>\n",
       "      <td>[836181, 929751, 994272, 995242, 999104, 10288...</td>\n",
       "      <td>[1082185, 1106523, 5569230, 951590, 1004906]</td>\n",
       "      <td>[1082185, 1106523, 5569230, 951590, 1004906]</td>\n",
       "    </tr>\n",
       "    <tr>\n",
       "      <th>1838</th>\n",
       "      <td>2439</td>\n",
       "      <td>[1082185, 1123321, 983016]</td>\n",
       "      <td>[1082185, 1106523, 5569230, 951590, 1004906]</td>\n",
       "      <td>[1082185, 1106523, 5569230, 951590, 1004906]</td>\n",
       "    </tr>\n",
       "  </tbody>\n",
       "</table>\n",
       "<p>1885 rows × 4 columns</p>\n",
       "</div>"
      ],
      "text/plain": [
       "      user_id                                             actual  \\\n",
       "0           1  [880007, 883616, 931136, 938004, 940947, 94726...   \n",
       "1           2  [820165, 820291, 826784, 826835, 829009, 85784...   \n",
       "3           6  [956902, 960791, 1037863, 1119051, 1137688, 84...   \n",
       "4           7  [847270, 855557, 859987, 863407, 895454, 90663...   \n",
       "5           8  [846334, 850834, 857503, 862139, 865891, 87829...   \n",
       "...       ...                                                ...   \n",
       "1791     2368  [838210, 843346, 845992, 857540, 868745, 87822...   \n",
       "1795     2373                         [838602, 1029743, 1109598]   \n",
       "1814     2399                                   [974156, 986912]   \n",
       "1829     2425  [836181, 929751, 994272, 995242, 999104, 10288...   \n",
       "1838     2439                         [1082185, 1123321, 983016]   \n",
       "\n",
       "                                                own_rec  \\\n",
       "0     [8293439, 856942, 9655212, 922281, 940947, 109...   \n",
       "1     [6633224, 839656, 1139142, 1011457, 1030981, 8...   \n",
       "3     [1024306, 12757544, 6548453, 983096, 850102, 8...   \n",
       "4     [991223, 5572738, 1023196, 9836752, 993638, 10...   \n",
       "5     [1042544, 1013389, 914318, 1121694, 866355, 94...   \n",
       "...                                                 ...   \n",
       "1791       [1082185, 1106523, 5569230, 951590, 1004906]   \n",
       "1795       [1082185, 1106523, 5569230, 951590, 1004906]   \n",
       "1814       [1082185, 1106523, 5569230, 951590, 1004906]   \n",
       "1829       [1082185, 1106523, 5569230, 951590, 1004906]   \n",
       "1838       [1082185, 1106523, 5569230, 951590, 1004906]   \n",
       "\n",
       "                                  reranked_own_rec  \n",
       "0      [1082185, 856942, 8293439, 940947, 1132771]  \n",
       "1     [6633224, 839656, 1139142, 1011457, 1030981]  \n",
       "3     [1082185, 845208, 1024306, 5569230, 1004906]  \n",
       "4     [1082185, 5568378, 5592610, 1122358, 986912]  \n",
       "5       [1082185, 1029743, 854405, 872137, 839243]  \n",
       "...                                            ...  \n",
       "1791  [1082185, 1106523, 5569230, 951590, 1004906]  \n",
       "1795  [1082185, 1106523, 5569230, 951590, 1004906]  \n",
       "1814  [1082185, 1106523, 5569230, 951590, 1004906]  \n",
       "1829  [1082185, 1106523, 5569230, 951590, 1004906]  \n",
       "1838  [1082185, 1106523, 5569230, 951590, 1004906]  \n",
       "\n",
       "[1885 rows x 4 columns]"
      ]
     },
     "execution_count": 80,
     "metadata": {},
     "output_type": "execute_result"
    }
   ],
   "source": [
    "# Объединяем пользователей тестового датафрейма\n",
    "result_df = warm_start.append(cold_start)\n",
    "result_df "
   ]
  },
  {
   "cell_type": "code",
   "execution_count": 81,
   "metadata": {},
   "outputs": [
    {
     "name": "stdout",
     "output_type": "stream",
     "text": [
      "('reranked_own_rec', 0.2223872679045093)\n",
      "('own_rec', 0.14981432360742708)\n"
     ]
    }
   ],
   "source": [
    "# Получившийся precision@5 по всем пользователям\n",
    "print(*sorted(calc_precision(result_df , TOPK_PRECISION), key=lambda x: x[1], reverse=True), sep='\\n')"
   ]
  }
 ],
 "metadata": {
  "kernelspec": {
   "display_name": "Python 3 (ipykernel)",
   "language": "python",
   "name": "python3"
  },
  "language_info": {
   "codemirror_mode": {
    "name": "ipython",
    "version": 3
   },
   "file_extension": ".py",
   "mimetype": "text/x-python",
   "name": "python",
   "nbconvert_exporter": "python",
   "pygments_lexer": "ipython3",
   "version": "3.8.7"
  }
 },
 "nbformat": 4,
 "nbformat_minor": 2
}
